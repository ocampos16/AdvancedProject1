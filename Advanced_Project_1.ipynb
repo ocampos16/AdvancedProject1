{
  "nbformat": 4,
  "nbformat_minor": 0,
  "metadata": {
    "colab": {
      "name": "Advanced Project 1.ipynb",
      "provenance": [],
      "collapsed_sections": [
        "qdualDrQYEB1"
      ],
      "mount_file_id": "1OdKdzS8JW90Pn4rwX9su50UPPmfn4rk9",
      "authorship_tag": "ABX9TyPtKiSUVRtfWKuXChgxwlFA"
    },
    "kernelspec": {
      "name": "python3",
      "display_name": "Python 3"
    }
  },
  "cells": [
    {
      "cell_type": "markdown",
      "metadata": {
        "id": "xDEDTGoS-nEF",
        "colab_type": "text"
      },
      "source": [
        "## download libraries"
      ]
    },
    {
      "cell_type": "code",
      "metadata": {
        "id": "mp_GqazZ9Jj9",
        "colab_type": "code",
        "colab": {
          "base_uri": "https://localhost:8080/",
          "height": 386
        },
        "outputId": "5181aad8-03ef-4871-e6fe-0a5b04e816a9"
      },
      "source": [
        "!pip install emoji --upgrade\n",
        "import nltk\n",
        "nltk.download('stopwords')\n",
        "nltk.download('punkt')\n",
        "nltk.download('wordnet')\n",
        "nltk.download('sentiwordnet')\n",
        "nltk.download('averaged_perceptron_tagger')"
      ],
      "execution_count": null,
      "outputs": [
        {
          "output_type": "stream",
          "text": [
            "Collecting emoji\n",
            "\u001b[?25l  Downloading https://files.pythonhosted.org/packages/40/8d/521be7f0091fe0f2ae690cc044faf43e3445e0ff33c574eae752dd7e39fa/emoji-0.5.4.tar.gz (43kB)\n",
            "\u001b[K     |████████████████████████████████| 51kB 1.7MB/s \n",
            "\u001b[?25hBuilding wheels for collected packages: emoji\n",
            "  Building wheel for emoji (setup.py) ... \u001b[?25l\u001b[?25hdone\n",
            "  Created wheel for emoji: filename=emoji-0.5.4-cp36-none-any.whl size=42176 sha256=2993ee6c88699e92d18115300a4e601621e78559ade4ba2bf6b0574afbcfcedf\n",
            "  Stored in directory: /root/.cache/pip/wheels/2a/a9/0a/4f8e8cce8074232aba240caca3fade315bb49fac68808d1a9c\n",
            "Successfully built emoji\n",
            "Installing collected packages: emoji\n",
            "Successfully installed emoji-0.5.4\n",
            "[nltk_data] Downloading package stopwords to /root/nltk_data...\n",
            "[nltk_data]   Unzipping corpora/stopwords.zip.\n",
            "[nltk_data] Downloading package punkt to /root/nltk_data...\n",
            "[nltk_data]   Unzipping tokenizers/punkt.zip.\n",
            "[nltk_data] Downloading package wordnet to /root/nltk_data...\n",
            "[nltk_data]   Unzipping corpora/wordnet.zip.\n",
            "[nltk_data] Downloading package sentiwordnet to /root/nltk_data...\n",
            "[nltk_data]   Unzipping corpora/sentiwordnet.zip.\n",
            "[nltk_data] Downloading package averaged_perceptron_tagger to\n",
            "[nltk_data]     /root/nltk_data...\n",
            "[nltk_data]   Unzipping taggers/averaged_perceptron_tagger.zip.\n"
          ],
          "name": "stdout"
        },
        {
          "output_type": "execute_result",
          "data": {
            "text/plain": [
              "True"
            ]
          },
          "metadata": {
            "tags": []
          },
          "execution_count": 1
        }
      ]
    },
    {
      "cell_type": "markdown",
      "metadata": {
        "id": "7lyA7gI_Xqr4",
        "colab_type": "text"
      },
      "source": [
        "## Import necessary libraries for data cleaning, sentiment analysis and word embedding"
      ]
    },
    {
      "cell_type": "code",
      "metadata": {
        "id": "SENp0Deh6tiu",
        "colab_type": "code",
        "colab": {
          "base_uri": "https://localhost:8080/",
          "height": 70
        },
        "outputId": "1091f6a0-06aa-4624-cfc3-69fcad84b790"
      },
      "source": [
        "import re # for regular expressions\n",
        "import json\n",
        "import emoji\n",
        "\n",
        "import pickle\n",
        "from datetime import datetime\n",
        "\n",
        "import numpy as np\n",
        "import pandas as pd\n",
        "pd.set_option(\"display.max_colwidth\", 200)\n",
        "\n",
        "from nltk import pos_tag, sent_tokenize, word_tokenize\n",
        "from nltk.corpus import stopwords, wordnet as wn, sentiwordnet as swn\n",
        "from nltk.stem import WordNetLemmatizer\n",
        "\n",
        "import matplotlib.pyplot as plt \n",
        "import seaborn as sns\n",
        "import warnings\n",
        "warnings.filterwarnings(\"ignore\")\n",
        "\n",
        "%matplotlib inline"
      ],
      "execution_count": null,
      "outputs": [
        {
          "output_type": "stream",
          "text": [
            "/usr/local/lib/python3.6/dist-packages/statsmodels/tools/_testing.py:19: FutureWarning: pandas.util.testing is deprecated. Use the functions in the public API at pandas.testing instead.\n",
            "  import pandas.util.testing as tm\n"
          ],
          "name": "stderr"
        }
      ]
    },
    {
      "cell_type": "code",
      "metadata": {
        "id": "hHt5iGNGuA0L",
        "colab_type": "code",
        "colab": {
          "base_uri": "https://localhost:8080/",
          "height": 34
        },
        "outputId": "74c056a5-054b-4df1-b57f-b36ef5f4ca6a"
      },
      "source": [
        "%cd \"/content/drive/My Drive/dataScience/projects/twitterSentimentAnalysis/dataset\"\n",
        "# !pwd"
      ],
      "execution_count": null,
      "outputs": [
        {
          "output_type": "stream",
          "text": [
            "/content/drive/My Drive/dataScience/projects/twitterSentimentAnalysis/dataset\n"
          ],
          "name": "stdout"
        }
      ]
    },
    {
      "cell_type": "markdown",
      "metadata": {
        "id": "qdualDrQYEB1",
        "colab_type": "text"
      },
      "source": [
        "## Define dictionary for contractions of words\n",
        "\n"
      ]
    },
    {
      "cell_type": "code",
      "metadata": {
        "id": "IAN6Ouc-7UGO",
        "colab_type": "code",
        "colab": {}
      },
      "source": [
        "# Dictionary of contarctions. source for contractions: https://en.wikipedia.org/wiki/Contraction_%28grammar%29\n",
        "contractions_dict = {\n",
        "        \"ain't\":\"is not\",\n",
        "        \"amn't\":\"am not\",\n",
        "        \"aren't\":\"are not\",\n",
        "        \"can't\":\"cannot\",\n",
        "        \"'cause\":\"because\",\n",
        "        \"couldn't\":\"could not\",\n",
        "        \"couldn't've\":\"could not have\",\n",
        "        \"could've\":\"could have\",\n",
        "        \"daren't\":\"dare not\",\n",
        "        \"daresn't\":\"dare not\",\n",
        "        \"dasn't\":\"dare not\",\n",
        "        \"didn't\":\"did not\",\n",
        "        \"doesn't\":\"does not\",\n",
        "        \"don't\":\"do not\",\n",
        "        \"e'er\":\"ever\",\n",
        "        \"em\":\"them\",\n",
        "        \"everyone's\":\"everyone is\",\n",
        "        \"finna\":\"fixing to\",\n",
        "        \"gimme\":\"give me\",\n",
        "        \"gonna\":\"going to\",\n",
        "        \"gon't\":\"go not\",\n",
        "        \"gotta\":\"got to\",\n",
        "        \"hadn't\":\"had not\",\n",
        "        \"hasn't\":\"has not\",\n",
        "        \"haven't\":\"have not\",\n",
        "        \"he'd\":\"he would\",\n",
        "        \"he'll\":\"he will\",\n",
        "        \"he's\":\"he is\",\n",
        "        \"he've\":\"he have\",\n",
        "        \"how'd\":\"how would\",\n",
        "        \"how'll\":\"how will\",\n",
        "        \"how're\":\"how are\",\n",
        "        \"how's\":\"how is\",\n",
        "        \"I'd\":\"I would\",\n",
        "        \"I'll\":\"I will\",\n",
        "        \"I'm\":\"I am\",\n",
        "        \"I'm'a\":\"I am about to\",\n",
        "        \"I'm'o\":\"I am going to\",\n",
        "        \"isn't\":\"is not\",\n",
        "        \"it'd\":\"it would\",\n",
        "        \"it'll\":\"it will\",\n",
        "        \"it's\":\"it is\",\n",
        "        \"I've\":\"I have\",\n",
        "        \"kinda\":\"kind of\",\n",
        "        \"let's\":\"let us\",\n",
        "        \"mayn't\":\"may not\",\n",
        "        \"may've\":\"may have\",\n",
        "        \"mightn't\":\"might not\",\n",
        "        \"might've\":\"might have\",\n",
        "        \"mustn't\":\"must not\",\n",
        "        \"mustn't've\":\"must not have\",\n",
        "        \"must've\":\"must have\",\n",
        "        \"needn't\":\"need not\",\n",
        "        \"ne'er\":\"never\",\n",
        "        \"o'\":\"of\",\n",
        "        \"o'er\":\"over\",\n",
        "        \"ol'\":\"old\",\n",
        "        \"oughtn't\":\"ought not\",\n",
        "        \"shalln't\":\"shall not\",\n",
        "        \"shan't\":\"shall not\",\n",
        "        \"she'd\":\"she would\",\n",
        "        \"she'll\":\"she will\",\n",
        "        \"she's\":\"she is\",\n",
        "        \"shouldn't\":\"should not\",\n",
        "        \"shouldn't've\":\"should not have\",\n",
        "        \"should've\":\"should have\",\n",
        "        \"somebody's\":\"somebody is\",\n",
        "        \"someone's\":\"someone is\",\n",
        "        \"something's\":\"something is\",\n",
        "        \"that'd\":\"that would\",\n",
        "        \"that'll\":\"that will\",\n",
        "        \"that're\":\"that are\",\n",
        "        \"that's\":\"that is\",\n",
        "        \"there'd\":\"there would\",\n",
        "        \"there'll\":\"there will\",\n",
        "        \"there're\":\"there are\",\n",
        "        \"there's\":\"there is\",\n",
        "        \"these're\":\"these are\",\n",
        "        \"they'd\":\"they would\",\n",
        "        \"they'll\":\"they will\",\n",
        "        \"they're\":\"they are\",\n",
        "        \"they've\":\"they have\",\n",
        "        \"this's\":\"this is\",\n",
        "        \"those're\":\"those are\",\n",
        "        \"'tis\":\"it is\",\n",
        "        \"'twas\":\"it was\",\n",
        "        \"wanna\":\"want to\",\n",
        "        \"wasn't\":\"was not\",\n",
        "        \"we'd\":\"we would\",\n",
        "        \"we'd've\":\"we would have\",\n",
        "        \"we'll\":\"we will\",\n",
        "        \"we're\":\"we are\",\n",
        "        \"weren't\":\"were not\",\n",
        "        \"we've\":\"we have\",\n",
        "        \"what'd\":\"what did\",\n",
        "        \"what'll\":\"what will\",\n",
        "        \"what're\":\"what are\",\n",
        "        \"what's\":\"what is\",\n",
        "        \"what've\":\"what have\",\n",
        "        \"when's\":\"when is\",\n",
        "        \"where'd\":\"where did\",\n",
        "        \"where're\":\"where are\",\n",
        "        \"where's\":\"where is\",\n",
        "        \"where've\":\"where have\",\n",
        "        \"which's\":\"which is\",\n",
        "        \"who'd\":\"who would\",\n",
        "        \"who'd've\":\"who would have\",\n",
        "        \"who'll\":\"who will\",\n",
        "        \"who're\":\"who are\",\n",
        "        \"who's\":\"who is\",\n",
        "        \"who've\":\"who have\",\n",
        "        \"why'd\":\"why did\",\n",
        "        \"why're\":\"why are\",\n",
        "        \"why's\":\"why is\",\n",
        "        \"won't\":\"will not\",\n",
        "        \"wouldn't\":\"would not\",\n",
        "        \"would've\":\"would have\",\n",
        "        \"y'all\":\"you all\",\n",
        "        \"you'd\":\"you would\",\n",
        "        \"you'll\":\"you will\",\n",
        "        \"you're\":\"you are\",\n",
        "        \"you've\":\"you have\"\n",
        "        }"
      ],
      "execution_count": null,
      "outputs": []
    },
    {
      "cell_type": "markdown",
      "metadata": {
        "id": "7_El7jaNYXcb",
        "colab_type": "text"
      },
      "source": [
        "##Read json formatted raw data as a DataFrame\n",
        "\n",
        "> Indented block\n",
        "\n"
      ]
    },
    {
      "cell_type": "code",
      "metadata": {
        "id": "XPOGU3Cb6jjd",
        "colab_type": "code",
        "colab": {
          "base_uri": "https://localhost:8080/",
          "height": 34
        },
        "outputId": "d4ba038b-124d-49f2-e17d-fa5717c0e690"
      },
      "source": [
        "# Input data files are available in the \"dataset/\" directory.\n",
        "# Read the input raw data and parse only the necessary columns from the json file.\n",
        "\n",
        "def populate_tweet_df(tweets):\n",
        "    \"\"\"\n",
        "    This function takes tweets list as argument and returns a dataframe of the tweets.\n",
        "    \"\"\"\n",
        "    df = pd.DataFrame()\n",
        "    df['date'] = [datetime.strptime(tweet['created_at'],'%a %b %d %H:%M:%S %z %Y') for tweet in tweets if (tweet['lang'] == 'en')]\n",
        "    df['text'] = [tweet['text'] for tweet in tweets if (tweet['lang'] == 'en')]\n",
        "    # df['text'] = list(map(lambda tweet:tweet['text'], filter(lambda tweet: tweet['lang']=='en', tweets)))\n",
        "    return df\n",
        "\n",
        "if __name__ == '__main__':\n",
        "    tweet_file1 = (\"tweets_parisagreement_09-03-2020.txt\")\n",
        "    tweets = []\n",
        "    with open(tweet_file1, 'r') as file:\n",
        "        for line in file.readlines():\n",
        "            tweets.append(json.loads(line))\n",
        "    \n",
        "    tweet_file2 = (\"tweets_parisagreement_20-04-2020.txt\")\n",
        "    with open(tweet_file2, 'r') as file:\n",
        "        for line in file.readlines():\n",
        "            tweets.append(json.loads(line))\n",
        "\n",
        "    tweets_df = populate_tweet_df(tweets)\n",
        "    print(\"Executed Successfully\")\n"
      ],
      "execution_count": null,
      "outputs": [
        {
          "output_type": "stream",
          "text": [
            "Executed Successfully\n"
          ],
          "name": "stdout"
        }
      ]
    },
    {
      "cell_type": "code",
      "metadata": {
        "id": "DpSJiYfeYoVB",
        "colab_type": "code",
        "colab": {
          "base_uri": "https://localhost:8080/",
          "height": 195
        },
        "outputId": "69b8d522-c7f5-40e5-eeed-6eac7906d290"
      },
      "source": [
        "tweets_df.head()"
      ],
      "execution_count": null,
      "outputs": [
        {
          "output_type": "execute_result",
          "data": {
            "text/html": [
              "<div>\n",
              "<style scoped>\n",
              "    .dataframe tbody tr th:only-of-type {\n",
              "        vertical-align: middle;\n",
              "    }\n",
              "\n",
              "    .dataframe tbody tr th {\n",
              "        vertical-align: top;\n",
              "    }\n",
              "\n",
              "    .dataframe thead th {\n",
              "        text-align: right;\n",
              "    }\n",
              "</style>\n",
              "<table border=\"1\" class=\"dataframe\">\n",
              "  <thead>\n",
              "    <tr style=\"text-align: right;\">\n",
              "      <th></th>\n",
              "      <th>date</th>\n",
              "      <th>text</th>\n",
              "    </tr>\n",
              "  </thead>\n",
              "  <tbody>\n",
              "    <tr>\n",
              "      <th>0</th>\n",
              "      <td>2020-03-09 13:49:46+00:00</td>\n",
              "      <td>One need World to make #MAGA .\\nWe need #ParisAgreement to make Earth Great.\\n@UNEP @UN @IPCC_CH @SciNetUCS… https://t.co/BJhy83Oyaf</td>\n",
              "    </tr>\n",
              "    <tr>\n",
              "      <th>1</th>\n",
              "      <td>2020-03-09 13:26:18+00:00</td>\n",
              "      <td>SLOW DOWN\\nGlobal #CO2 emissions from the #power sector fell by 2% last year, the biggest fall since 1990. The decli… https://t.co/fpb4a59R9k</td>\n",
              "    </tr>\n",
              "    <tr>\n",
              "      <th>2</th>\n",
              "      <td>2020-03-09 13:21:51+00:00</td>\n",
              "      <td>RT @UNDPClimate: This Wednesday 11 March Switzerland &amp;amp; Ghana will share their progress on cooperative approaches aligned with #ParisAgreeme…</td>\n",
              "    </tr>\n",
              "    <tr>\n",
              "      <th>3</th>\n",
              "      <td>2020-03-09 13:21:42+00:00</td>\n",
              "      <td>RT @UNDPClimate: This Wednesday 11 March Switzerland &amp;amp; Ghana will share their progress on cooperative approaches aligned with #ParisAgreeme…</td>\n",
              "    </tr>\n",
              "    <tr>\n",
              "      <th>4</th>\n",
              "      <td>2020-03-09 13:20:13+00:00</td>\n",
              "      <td>This Wednesday 11 March Switzerland &amp;amp; Ghana will share their progress on cooperative approaches aligned with… https://t.co/SWygs30ODi</td>\n",
              "    </tr>\n",
              "  </tbody>\n",
              "</table>\n",
              "</div>"
            ],
            "text/plain": [
              "                       date                                                                                                                                              text\n",
              "0 2020-03-09 13:49:46+00:00              One need World to make #MAGA .\\nWe need #ParisAgreement to make Earth Great.\\n@UNEP @UN @IPCC_CH @SciNetUCS… https://t.co/BJhy83Oyaf\n",
              "1 2020-03-09 13:26:18+00:00     SLOW DOWN\\nGlobal #CO2 emissions from the #power sector fell by 2% last year, the biggest fall since 1990. The decli… https://t.co/fpb4a59R9k\n",
              "2 2020-03-09 13:21:51+00:00  RT @UNDPClimate: This Wednesday 11 March Switzerland &amp; Ghana will share their progress on cooperative approaches aligned with #ParisAgreeme…\n",
              "3 2020-03-09 13:21:42+00:00  RT @UNDPClimate: This Wednesday 11 March Switzerland &amp; Ghana will share their progress on cooperative approaches aligned with #ParisAgreeme…\n",
              "4 2020-03-09 13:20:13+00:00         This Wednesday 11 March Switzerland &amp; Ghana will share their progress on cooperative approaches aligned with… https://t.co/SWygs30ODi"
            ]
          },
          "metadata": {
            "tags": []
          },
          "execution_count": 6
        }
      ]
    },
    {
      "cell_type": "markdown",
      "metadata": {
        "id": "ryZOYSkXZ_pJ",
        "colab_type": "text"
      },
      "source": [
        "##Data Cleaning"
      ]
    },
    {
      "cell_type": "code",
      "metadata": {
        "id": "rxZ8Lr1l6jT-",
        "colab_type": "code",
        "colab": {
          "base_uri": "https://localhost:8080/",
          "height": 34
        },
        "outputId": "069899dc-9edc-440a-8a8b-ded6466600c2"
      },
      "source": [
        "# Setting stopwords\n",
        "all_stopwords = set(stopwords.words('english'))\n",
        "exclude_stopwords = ['no', 'not']\n",
        "for sw in exclude_stopwords:\n",
        "    all_stopwords.remove(sw)\n",
        "\n",
        "# Initializing Lemmatizer\n",
        "lemmatizer = WordNetLemmatizer()\n",
        "\n",
        "def toLowerCase(text):\n",
        "    '''\n",
        "    Returns the text in lowercase.\n",
        "    '''\n",
        "    return text.lower()\n",
        "\n",
        "\n",
        "def removeUrls(text):\n",
        "    # return re.sub('((www\\.[^\\s]+)|(https?://[^\\s]+))','', text)\n",
        "    return re.sub(r'(https|http)?:\\/\\/(\\w|\\.|\\/|\\?|\\=|\\&|\\%)*\\b','', text)\n",
        "\n",
        "def removeSpecialChar(text):\n",
        "    '''\n",
        "    Removes special characters which are generally found in tweets.\n",
        "    '''\n",
        "    # Convert @username to empty strings\n",
        "    # text = re.sub('@[^\\s]+', '', text)\n",
        "    text = re.sub('@\\S+','',text)\n",
        "\n",
        "    # Remove 'RT' from retweets\n",
        "    text = re.sub(r'\\brt\\b', '', text)\n",
        "\n",
        "    # Remove additional white spaces\n",
        "    text = re.sub('[\\s]+', ' ', text)\n",
        "\n",
        "    # Replace #hastags with white space\n",
        "    # text = re.sub(r'#([^\\s]+)', '', text)\n",
        "    text = re.sub(r\"#\\S+\", \"\", text)\n",
        "\n",
        "    # Trims the tweet\n",
        "    text = text.strip('\\'\"')\n",
        "\n",
        "    return text\n",
        "\n",
        "\n",
        "def removeNonAlpha(text):\n",
        "    '''\n",
        "    Remove all characters which are not alphabets, numbers or whitespaces.\n",
        "    '''\n",
        "    return re.sub('[^A-Za-z0-9 ]+', '', text)\n",
        "\n",
        "\n",
        "def removeStopWords(text):\n",
        "    # Remove stop words using NLTK's list of stop words in the corpus module. \n",
        "    tokens_without_sw = [word for word in word_tokenize(text) if not word in all_stopwords]\n",
        "\n",
        "    return (tokens_without_sw)\n",
        "\n",
        "\n",
        "def handleEmojis(text):\n",
        "    '''\n",
        "    This function handles sentiments expressed through emoticons by using Python's 'emoji package'.\n",
        "    Replace all emoticons with the expression they represent in plain English.\n",
        "    '''\n",
        "    text = emoji.demojize(text)\n",
        "    text = text.replace(\":\",\" \")\n",
        "    text = text.replace(\"_\",\" \")\n",
        "    text = ' '.join(text.split())\n",
        "    return text\n",
        "\n",
        "\n",
        "def handleContractions(text):\n",
        "    '''\n",
        "    expand shortened words, e.g. convert \"don't\" to \"do not\"\n",
        "    '''\n",
        "    contracted_tokens = [contractions_dict[word] if word in contractions_dict else word for word in word_tokenize(text)]\n",
        "    return \" \".join(contracted_tokens)\n",
        "\n",
        "\n",
        "def get_wordnet_pos(word):\n",
        "    '''\n",
        "    Map POS tag to the format wordnet lemmatizer would accept. Returning 'NOUN' as default tag.\n",
        "    ADJ: adjective,    ADP: adposition,    ADV: adverb,    CONJ: conjunction\t\n",
        "    DET: determiner,article,    NOUN: noun,    NUM: numeral,    PRT: particle\n",
        "    PRON: pronoun,    VERB: verb,    .: punctuation marks\t. , ; !,    X: other\t\n",
        "    '''\n",
        "    tag = pos_tag([word])[0][1][0].upper()\n",
        "    tag_dict = {\"J\": wn.ADJ,\n",
        "                \"N\": wn.NOUN,\n",
        "                \"V\": wn.VERB,\n",
        "                \"R\": wn.ADV}\n",
        "\n",
        "    return tag_dict.get(tag, wn.NOUN)\n",
        "\n",
        "\n",
        "def wordLemmatization(text):\n",
        "    '''\n",
        "    Lemmatizing the text with the appropriate POS tag\n",
        "    result: ['he', 'kept', 'eat', 'while', 'we', 'be', 'talk']\n",
        "    '''\n",
        "    lemma_tokens = [lemmatizer.lemmatize(word, get_wordnet_pos(word)) for word in word_tokenize(text)]\n",
        "    return \" \".join(lemma_tokens)\n",
        "\n",
        "def processTweets(tweet):\n",
        "    '''\n",
        "    Process the raw tweets and convert them into usable data for sentiment analysis. \n",
        "    '''\n",
        "    # Convert to lower case\n",
        "    tweet = toLowerCase(tweet)\n",
        "\n",
        "    # Remove all Special characters\n",
        "    tweet = removeSpecialChar(tweet)\n",
        "\n",
        "    # Remove urls\n",
        "    tweet = removeUrls(tweet)\n",
        "    \n",
        "    # Replacing contractions with full words\n",
        "    tweet = handleContractions(tweet)\n",
        "    \n",
        "    # Replace emoticons with word expressions\n",
        "    tweet = handleEmojis(tweet)\n",
        "    \n",
        "    # # Remove all Special characters\n",
        "    tweet = removeSpecialChar(tweet)\n",
        "    \n",
        "    # Remove non alpha characters\n",
        "    tweet = removeNonAlpha(tweet)\n",
        "    \n",
        "    # converting a word to its base form\n",
        "    tweet = wordLemmatization(tweet)\n",
        "    \n",
        "    # Remove stop words\n",
        "    tweet = removeStopWords(tweet)\n",
        "\n",
        "    return tweet\n",
        "\n",
        "if __name__ == '__main__':\n",
        "    tweets = tweets_df['text']\n",
        "    processed_tweets = []\n",
        "    processed_df = pd.DataFrame(columns=['date','text','clean_text'])\n",
        "    for tweet in tweets:\n",
        "        processed_tweets.append(processTweets(tweet))\n",
        "    processed_df['date'] = tweets_df['date']\n",
        "    processed_df['text'] = tweets_df['text']\n",
        "    processed_df['clean_text'] = processed_tweets\n",
        "    print(\"Executed Successfully\")"
      ],
      "execution_count": null,
      "outputs": [
        {
          "output_type": "stream",
          "text": [
            "Executed Successfully\n"
          ],
          "name": "stdout"
        }
      ]
    },
    {
      "cell_type": "code",
      "metadata": {
        "id": "BNmIvW2mJC1v",
        "colab_type": "code",
        "colab": {
          "base_uri": "https://localhost:8080/",
          "height": 50
        },
        "outputId": "f5e362ac-9cd6-4b04-ae4d-3c8ac54c8445"
      },
      "source": [
        "tweet1 = '''RT @AngholichiGoli Ghana will share their progress on cooperative approaches aligned with #ParisAgreemet'''\n",
        "tweet2 = '''RT @frances_cutler: are they massively trying to massage the figures to hide the fact😡❓'''\n",
        "print(processTweets(tweet1))\n",
        "print(processTweets(tweet2))"
      ],
      "execution_count": null,
      "outputs": [
        {
          "output_type": "stream",
          "text": [
            "['ghana', 'share', 'progress', 'cooperative', 'approach', 'align']\n",
            "['massively', 'try', 'massage', 'figure', 'hide', 'fact', 'pout', 'face', 'question', 'mark']\n"
          ],
          "name": "stdout"
        }
      ]
    },
    {
      "cell_type": "code",
      "metadata": {
        "id": "_0Pj9G5DZt5r",
        "colab_type": "code",
        "colab": {
          "base_uri": "https://localhost:8080/",
          "height": 279
        },
        "outputId": "673f9a8b-c348-4830-b1e3-5fc42deddb31"
      },
      "source": [
        "processed_df.head()"
      ],
      "execution_count": null,
      "outputs": [
        {
          "output_type": "execute_result",
          "data": {
            "text/html": [
              "<div>\n",
              "<style scoped>\n",
              "    .dataframe tbody tr th:only-of-type {\n",
              "        vertical-align: middle;\n",
              "    }\n",
              "\n",
              "    .dataframe tbody tr th {\n",
              "        vertical-align: top;\n",
              "    }\n",
              "\n",
              "    .dataframe thead th {\n",
              "        text-align: right;\n",
              "    }\n",
              "</style>\n",
              "<table border=\"1\" class=\"dataframe\">\n",
              "  <thead>\n",
              "    <tr style=\"text-align: right;\">\n",
              "      <th></th>\n",
              "      <th>date</th>\n",
              "      <th>text</th>\n",
              "      <th>clean_text</th>\n",
              "    </tr>\n",
              "  </thead>\n",
              "  <tbody>\n",
              "    <tr>\n",
              "      <th>0</th>\n",
              "      <td>2020-03-09 13:49:46+00:00</td>\n",
              "      <td>One need World to make #MAGA .\\nWe need #ParisAgreement to make Earth Great.\\n@UNEP @UN @IPCC_CH @SciNetUCS… https://t.co/BJhy83Oyaf</td>\n",
              "      <td>[one, need, world, make, need, make, earth, great]</td>\n",
              "    </tr>\n",
              "    <tr>\n",
              "      <th>1</th>\n",
              "      <td>2020-03-09 13:26:18+00:00</td>\n",
              "      <td>SLOW DOWN\\nGlobal #CO2 emissions from the #power sector fell by 2% last year, the biggest fall since 1990. The decli… https://t.co/fpb4a59R9k</td>\n",
              "      <td>[slow, global, emission, sector, fell, 2, last, year, big, fall, since, 1990, decli]</td>\n",
              "    </tr>\n",
              "    <tr>\n",
              "      <th>2</th>\n",
              "      <td>2020-03-09 13:21:51+00:00</td>\n",
              "      <td>RT @UNDPClimate: This Wednesday 11 March Switzerland &amp;amp; Ghana will share their progress on cooperative approaches aligned with #ParisAgreeme…</td>\n",
              "      <td>[wednesday, 11, march, switzerland, amp, ghana, share, progress, cooperative, approach, align]</td>\n",
              "    </tr>\n",
              "    <tr>\n",
              "      <th>3</th>\n",
              "      <td>2020-03-09 13:21:42+00:00</td>\n",
              "      <td>RT @UNDPClimate: This Wednesday 11 March Switzerland &amp;amp; Ghana will share their progress on cooperative approaches aligned with #ParisAgreeme…</td>\n",
              "      <td>[wednesday, 11, march, switzerland, amp, ghana, share, progress, cooperative, approach, align]</td>\n",
              "    </tr>\n",
              "    <tr>\n",
              "      <th>4</th>\n",
              "      <td>2020-03-09 13:20:13+00:00</td>\n",
              "      <td>This Wednesday 11 March Switzerland &amp;amp; Ghana will share their progress on cooperative approaches aligned with… https://t.co/SWygs30ODi</td>\n",
              "      <td>[wednesday, 11, march, switzerland, amp, ghana, share, progress, cooperative, approach, align]</td>\n",
              "    </tr>\n",
              "  </tbody>\n",
              "</table>\n",
              "</div>"
            ],
            "text/plain": [
              "                       date  ...                                                                                      clean_text\n",
              "0 2020-03-09 13:49:46+00:00  ...                                              [one, need, world, make, need, make, earth, great]\n",
              "1 2020-03-09 13:26:18+00:00  ...            [slow, global, emission, sector, fell, 2, last, year, big, fall, since, 1990, decli]\n",
              "2 2020-03-09 13:21:51+00:00  ...  [wednesday, 11, march, switzerland, amp, ghana, share, progress, cooperative, approach, align]\n",
              "3 2020-03-09 13:21:42+00:00  ...  [wednesday, 11, march, switzerland, amp, ghana, share, progress, cooperative, approach, align]\n",
              "4 2020-03-09 13:20:13+00:00  ...  [wednesday, 11, march, switzerland, amp, ghana, share, progress, cooperative, approach, align]\n",
              "\n",
              "[5 rows x 3 columns]"
            ]
          },
          "metadata": {
            "tags": []
          },
          "execution_count": 8
        }
      ]
    },
    {
      "cell_type": "markdown",
      "metadata": {
        "id": "mAEhvgBpZyEF",
        "colab_type": "text"
      },
      "source": [
        "###Save processed dataframe for easy reusability"
      ]
    },
    {
      "cell_type": "code",
      "metadata": {
        "id": "psHIsC49kJgi",
        "colab_type": "code",
        "colab": {}
      },
      "source": [
        "cleaned_df = open(\"cleaned_df.pickle\",\"wb\")\n",
        "pickle.dump(processed_df, cleaned_df)"
      ],
      "execution_count": null,
      "outputs": []
    },
    {
      "cell_type": "code",
      "metadata": {
        "id": "qFsw4XH0vnI6",
        "colab_type": "code",
        "colab": {}
      },
      "source": [
        "cleaned_df = open(\"cleaned_df.pickle\", \"rb\")\n",
        "processed_df = pickle.load(cleaned_df)"
      ],
      "execution_count": null,
      "outputs": []
    },
    {
      "cell_type": "markdown",
      "metadata": {
        "id": "Je-C18g9uYWc",
        "colab_type": "text"
      },
      "source": [
        "## Hypernyms"
      ]
    },
    {
      "cell_type": "code",
      "metadata": {
        "id": "daCUFkUWuXMr",
        "colab_type": "code",
        "colab": {}
      },
      "source": [
        "def get_wordnet_pos(word):\n",
        "    '''\n",
        "    Convert the PennTreebank tags to simple Wordnet tags\n",
        "    '''\n",
        "    tag = pos_tag([word])[0][1][0].upper()\n",
        "\n",
        "    tag_dict = {\"J\": wn.ADJ,\n",
        "                \"N\": wn.NOUN,\n",
        "                \"V\": wn.VERB,\n",
        "                \"R\": wn.ADV}\n",
        "\n",
        "    return tag_dict.get(tag, wn.NOUN)\n",
        "\n",
        "def get_hypernyms(text):\n",
        "\n",
        "    hypernymn_tweet = []\n",
        "    \n",
        "    count = len(text)\n",
        "\n",
        "    for word in text:\n",
        "        synsets = wn.synsets(word)\n",
        "\n",
        "        if len(synsets) <= 0:\n",
        "            hypernymn_tweet.append(word)\n",
        "        else:\n",
        "        # We get the hypernym\n",
        "            hyper = synsets[0].hypernyms()\n",
        "        # If we get a result\n",
        "            if len(hyper) <= 0:\n",
        "                hypernymn_tweet.append(word)\n",
        "            else:\n",
        "                lemmas = hyper[0].lemma_names()\n",
        "                hypernymn_tweet.append(lemmas[0])\n",
        "    return hypernymn_tweet"
      ],
      "execution_count": null,
      "outputs": []
    },
    {
      "cell_type": "code",
      "metadata": {
        "id": "zVYmqdECvLuA",
        "colab_type": "code",
        "colab": {
          "base_uri": "https://localhost:8080/",
          "height": 346
        },
        "outputId": "22dcb8be-ac08-409f-8174-675133d52f0f"
      },
      "source": [
        "hypernym_text = []\n",
        "tweets = processed_df['clean_text']\n",
        "for tweet in tweets:\n",
        "    hypernym_text.append(get_hypernyms(tweet))\n",
        "processed_df['hypernym_text'] = hypernym_text\n",
        "processed_df.head()"
      ],
      "execution_count": null,
      "outputs": [
        {
          "output_type": "execute_result",
          "data": {
            "text/html": [
              "<div>\n",
              "<style scoped>\n",
              "    .dataframe tbody tr th:only-of-type {\n",
              "        vertical-align: middle;\n",
              "    }\n",
              "\n",
              "    .dataframe tbody tr th {\n",
              "        vertical-align: top;\n",
              "    }\n",
              "\n",
              "    .dataframe thead th {\n",
              "        text-align: right;\n",
              "    }\n",
              "</style>\n",
              "<table border=\"1\" class=\"dataframe\">\n",
              "  <thead>\n",
              "    <tr style=\"text-align: right;\">\n",
              "      <th></th>\n",
              "      <th>date</th>\n",
              "      <th>text</th>\n",
              "      <th>clean_text</th>\n",
              "      <th>hypernym_text</th>\n",
              "    </tr>\n",
              "  </thead>\n",
              "  <tbody>\n",
              "    <tr>\n",
              "      <th>0</th>\n",
              "      <td>2020-03-09 13:49:46+00:00</td>\n",
              "      <td>One need World to make #MAGA .\\nWe need #ParisAgreement to make Earth Great.\\n@UNEP @UN @IPCC_CH @SciNetUCS… https://t.co/BJhy83Oyaf</td>\n",
              "      <td>[one, need, world, make, need, make, earth, great]</td>\n",
              "      <td>[digit, condition, natural_object, kind, condition, kind, earth, achiever]</td>\n",
              "    </tr>\n",
              "    <tr>\n",
              "      <th>1</th>\n",
              "      <td>2020-03-09 13:26:18+00:00</td>\n",
              "      <td>SLOW DOWN\\nGlobal #CO2 emissions from the #power sector fell by 2% last year, the biggest fall since 1990. The decli… https://t.co/fpb4a59R9k</td>\n",
              "      <td>[slow, global, emission, sector, fell, 2, last, year, big, fall, since, 1990, decli]</td>\n",
              "      <td>[decrease, global, egress, plane_figure, animal_skin, digit, end, time_period, big, season, since, 1990, decli]</td>\n",
              "    </tr>\n",
              "    <tr>\n",
              "      <th>2</th>\n",
              "      <td>2020-03-09 13:21:51+00:00</td>\n",
              "      <td>RT @UNDPClimate: This Wednesday 11 March Switzerland &amp;amp; Ghana will share their progress on cooperative approaches aligned with #ParisAgreeme…</td>\n",
              "      <td>[wednesday, 11, march, switzerland, amp, ghana, share, progress, cooperative, approach, align]</td>\n",
              "      <td>[weekday, large_integer, Gregorian_calendar_month, switzerland, current_unit, ghana, assets, development, commercial_enterprise, conceptualization, reorient]</td>\n",
              "    </tr>\n",
              "    <tr>\n",
              "      <th>3</th>\n",
              "      <td>2020-03-09 13:21:42+00:00</td>\n",
              "      <td>RT @UNDPClimate: This Wednesday 11 March Switzerland &amp;amp; Ghana will share their progress on cooperative approaches aligned with #ParisAgreeme…</td>\n",
              "      <td>[wednesday, 11, march, switzerland, amp, ghana, share, progress, cooperative, approach, align]</td>\n",
              "      <td>[weekday, large_integer, Gregorian_calendar_month, switzerland, current_unit, ghana, assets, development, commercial_enterprise, conceptualization, reorient]</td>\n",
              "    </tr>\n",
              "    <tr>\n",
              "      <th>4</th>\n",
              "      <td>2020-03-09 13:20:13+00:00</td>\n",
              "      <td>This Wednesday 11 March Switzerland &amp;amp; Ghana will share their progress on cooperative approaches aligned with… https://t.co/SWygs30ODi</td>\n",
              "      <td>[wednesday, 11, march, switzerland, amp, ghana, share, progress, cooperative, approach, align]</td>\n",
              "      <td>[weekday, large_integer, Gregorian_calendar_month, switzerland, current_unit, ghana, assets, development, commercial_enterprise, conceptualization, reorient]</td>\n",
              "    </tr>\n",
              "  </tbody>\n",
              "</table>\n",
              "</div>"
            ],
            "text/plain": [
              "                       date  ...                                                                                                                                                  hypernym_text\n",
              "0 2020-03-09 13:49:46+00:00  ...                                                                                     [digit, condition, natural_object, kind, condition, kind, earth, achiever]\n",
              "1 2020-03-09 13:26:18+00:00  ...                                                [decrease, global, egress, plane_figure, animal_skin, digit, end, time_period, big, season, since, 1990, decli]\n",
              "2 2020-03-09 13:21:51+00:00  ...  [weekday, large_integer, Gregorian_calendar_month, switzerland, current_unit, ghana, assets, development, commercial_enterprise, conceptualization, reorient]\n",
              "3 2020-03-09 13:21:42+00:00  ...  [weekday, large_integer, Gregorian_calendar_month, switzerland, current_unit, ghana, assets, development, commercial_enterprise, conceptualization, reorient]\n",
              "4 2020-03-09 13:20:13+00:00  ...  [weekday, large_integer, Gregorian_calendar_month, switzerland, current_unit, ghana, assets, development, commercial_enterprise, conceptualization, reorient]\n",
              "\n",
              "[5 rows x 4 columns]"
            ]
          },
          "metadata": {
            "tags": []
          },
          "execution_count": 12
        }
      ]
    },
    {
      "cell_type": "markdown",
      "metadata": {
        "id": "Flf8tXR-aJFi",
        "colab_type": "text"
      },
      "source": [
        "## Word Embedding and Reaplcing words with centroid of the clusters of word vectors"
      ]
    },
    {
      "cell_type": "code",
      "metadata": {
        "id": "6RgRSGeM3ZSJ",
        "colab_type": "code",
        "colab": {}
      },
      "source": [
        "# Import word2vec model\n",
        "from gensim.models import Word2Vec, KeyedVectors"
      ],
      "execution_count": null,
      "outputs": []
    },
    {
      "cell_type": "code",
      "metadata": {
        "id": "fdb9xOEx4dN1",
        "colab_type": "code",
        "colab": {}
      },
      "source": [
        "model = KeyedVectors.load_word2vec_format('GoogleNews-vectors-negative300.bin.gz', binary=True)"
      ],
      "execution_count": null,
      "outputs": []
    },
    {
      "cell_type": "code",
      "metadata": {
        "id": "cgkY5glliSo9",
        "colab_type": "code",
        "colab": {
          "base_uri": "https://localhost:8080/",
          "height": 34
        },
        "outputId": "8b0d68c6-30a2-49cb-b81a-c197ada51ac6"
      },
      "source": [
        "model.vector_size"
      ],
      "execution_count": null,
      "outputs": [
        {
          "output_type": "execute_result",
          "data": {
            "text/plain": [
              "300"
            ]
          },
          "metadata": {
            "tags": []
          },
          "execution_count": 40
        }
      ]
    },
    {
      "cell_type": "code",
      "metadata": {
        "id": "KrgireP0ja2h",
        "colab_type": "code",
        "colab": {
          "base_uri": "https://localhost:8080/",
          "height": 34
        },
        "outputId": "e65e57ef-24c5-4aae-d0f8-a35d8b77103c"
      },
      "source": [
        "#generate a set of unique tokens in entire corpus\n",
        "unique_tokens = set()\n",
        "for text in processed_df['clean_text']:\n",
        "    unique_tokens.update(text)\n",
        "print(\"Found {} unique tokens in corpus\".format(len(unique_tokens)))"
      ],
      "execution_count": null,
      "outputs": [
        {
          "output_type": "stream",
          "text": [
            "Found 2718 unique tokens in corpus\n"
          ],
          "name": "stdout"
        }
      ]
    },
    {
      "cell_type": "code",
      "metadata": {
        "id": "btTQovJliYQK",
        "colab_type": "code",
        "colab": {
          "base_uri": "https://localhost:8080/",
          "height": 34
        },
        "outputId": "c8b45e71-0569-4bd7-a580-85bdad1352f7"
      },
      "source": [
        "# Filter the list of vectors to include only those that Word2Vec has a vector for\n",
        "vector_list = [model[word] for word in unique_tokens if word in model.vocab]\n",
        "\n",
        "# Create a list of the words corresponding to these vectors\n",
        "words_filtered = [word for word in unique_tokens if word in model.vocab]\n",
        "\n",
        "# Zip the words together with their vector representations\n",
        "word_vec_zip = zip(words_filtered, vector_list)\n",
        "\n",
        "# Cast to a dict so we can turn it into a DataFrame\n",
        "word_vec_dict = dict(word_vec_zip)\n",
        "embeddings_df = pd.DataFrame.from_dict(word_vec_dict, orient='index')\n",
        "embeddings_df.shape"
      ],
      "execution_count": null,
      "outputs": [
        {
          "output_type": "execute_result",
          "data": {
            "text/plain": [
              "(2384, 300)"
            ]
          },
          "metadata": {
            "tags": []
          },
          "execution_count": 16
        }
      ]
    },
    {
      "cell_type": "code",
      "metadata": {
        "id": "VczP2pCdkRug",
        "colab_type": "code",
        "colab": {
          "base_uri": "https://localhost:8080/",
          "height": 185
        },
        "outputId": "ba83a8c6-a004-4009-a6df-355a11dc2798"
      },
      "source": [
        "embeddings_df.head(3)"
      ],
      "execution_count": null,
      "outputs": [
        {
          "output_type": "execute_result",
          "data": {
            "text/html": [
              "<div>\n",
              "<style scoped>\n",
              "    .dataframe tbody tr th:only-of-type {\n",
              "        vertical-align: middle;\n",
              "    }\n",
              "\n",
              "    .dataframe tbody tr th {\n",
              "        vertical-align: top;\n",
              "    }\n",
              "\n",
              "    .dataframe thead th {\n",
              "        text-align: right;\n",
              "    }\n",
              "</style>\n",
              "<table border=\"1\" class=\"dataframe\">\n",
              "  <thead>\n",
              "    <tr style=\"text-align: right;\">\n",
              "      <th></th>\n",
              "      <th>0</th>\n",
              "      <th>1</th>\n",
              "      <th>2</th>\n",
              "      <th>3</th>\n",
              "      <th>4</th>\n",
              "      <th>5</th>\n",
              "      <th>6</th>\n",
              "      <th>7</th>\n",
              "      <th>8</th>\n",
              "      <th>9</th>\n",
              "      <th>10</th>\n",
              "      <th>11</th>\n",
              "      <th>12</th>\n",
              "      <th>13</th>\n",
              "      <th>14</th>\n",
              "      <th>15</th>\n",
              "      <th>16</th>\n",
              "      <th>17</th>\n",
              "      <th>18</th>\n",
              "      <th>19</th>\n",
              "      <th>20</th>\n",
              "      <th>21</th>\n",
              "      <th>22</th>\n",
              "      <th>23</th>\n",
              "      <th>24</th>\n",
              "      <th>25</th>\n",
              "      <th>26</th>\n",
              "      <th>27</th>\n",
              "      <th>28</th>\n",
              "      <th>29</th>\n",
              "      <th>30</th>\n",
              "      <th>31</th>\n",
              "      <th>32</th>\n",
              "      <th>33</th>\n",
              "      <th>34</th>\n",
              "      <th>35</th>\n",
              "      <th>36</th>\n",
              "      <th>37</th>\n",
              "      <th>38</th>\n",
              "      <th>39</th>\n",
              "      <th>...</th>\n",
              "      <th>260</th>\n",
              "      <th>261</th>\n",
              "      <th>262</th>\n",
              "      <th>263</th>\n",
              "      <th>264</th>\n",
              "      <th>265</th>\n",
              "      <th>266</th>\n",
              "      <th>267</th>\n",
              "      <th>268</th>\n",
              "      <th>269</th>\n",
              "      <th>270</th>\n",
              "      <th>271</th>\n",
              "      <th>272</th>\n",
              "      <th>273</th>\n",
              "      <th>274</th>\n",
              "      <th>275</th>\n",
              "      <th>276</th>\n",
              "      <th>277</th>\n",
              "      <th>278</th>\n",
              "      <th>279</th>\n",
              "      <th>280</th>\n",
              "      <th>281</th>\n",
              "      <th>282</th>\n",
              "      <th>283</th>\n",
              "      <th>284</th>\n",
              "      <th>285</th>\n",
              "      <th>286</th>\n",
              "      <th>287</th>\n",
              "      <th>288</th>\n",
              "      <th>289</th>\n",
              "      <th>290</th>\n",
              "      <th>291</th>\n",
              "      <th>292</th>\n",
              "      <th>293</th>\n",
              "      <th>294</th>\n",
              "      <th>295</th>\n",
              "      <th>296</th>\n",
              "      <th>297</th>\n",
              "      <th>298</th>\n",
              "      <th>299</th>\n",
              "    </tr>\n",
              "  </thead>\n",
              "  <tbody>\n",
              "    <tr>\n",
              "      <th>new</th>\n",
              "      <td>0.011292</td>\n",
              "      <td>0.028931</td>\n",
              "      <td>0.083496</td>\n",
              "      <td>-0.049805</td>\n",
              "      <td>-0.130859</td>\n",
              "      <td>-0.109863</td>\n",
              "      <td>-0.115234</td>\n",
              "      <td>-0.074707</td>\n",
              "      <td>-0.089355</td>\n",
              "      <td>0.218750</td>\n",
              "      <td>0.037109</td>\n",
              "      <td>0.094727</td>\n",
              "      <td>0.023438</td>\n",
              "      <td>-0.084473</td>\n",
              "      <td>-0.265625</td>\n",
              "      <td>-0.100586</td>\n",
              "      <td>0.004639</td>\n",
              "      <td>0.115234</td>\n",
              "      <td>0.082520</td>\n",
              "      <td>0.020630</td>\n",
              "      <td>-0.036865</td>\n",
              "      <td>-0.000320</td>\n",
              "      <td>-0.099121</td>\n",
              "      <td>0.015869</td>\n",
              "      <td>-0.063477</td>\n",
              "      <td>0.187500</td>\n",
              "      <td>0.089844</td>\n",
              "      <td>0.177734</td>\n",
              "      <td>0.120117</td>\n",
              "      <td>0.037109</td>\n",
              "      <td>-0.119629</td>\n",
              "      <td>0.040527</td>\n",
              "      <td>-0.032227</td>\n",
              "      <td>-0.038086</td>\n",
              "      <td>0.126953</td>\n",
              "      <td>-0.158203</td>\n",
              "      <td>-0.050781</td>\n",
              "      <td>-0.156250</td>\n",
              "      <td>0.086426</td>\n",
              "      <td>-0.117188</td>\n",
              "      <td>...</td>\n",
              "      <td>0.060303</td>\n",
              "      <td>0.023682</td>\n",
              "      <td>-0.190430</td>\n",
              "      <td>0.078613</td>\n",
              "      <td>0.182617</td>\n",
              "      <td>0.027588</td>\n",
              "      <td>-0.161133</td>\n",
              "      <td>-0.044434</td>\n",
              "      <td>-0.159180</td>\n",
              "      <td>-0.033936</td>\n",
              "      <td>0.199219</td>\n",
              "      <td>-0.024292</td>\n",
              "      <td>0.159180</td>\n",
              "      <td>-0.200195</td>\n",
              "      <td>0.056152</td>\n",
              "      <td>-0.024414</td>\n",
              "      <td>0.127930</td>\n",
              "      <td>-0.159180</td>\n",
              "      <td>0.108887</td>\n",
              "      <td>-0.086426</td>\n",
              "      <td>-0.133789</td>\n",
              "      <td>0.113281</td>\n",
              "      <td>-0.045654</td>\n",
              "      <td>0.160156</td>\n",
              "      <td>0.110352</td>\n",
              "      <td>0.115234</td>\n",
              "      <td>-0.216797</td>\n",
              "      <td>-0.153320</td>\n",
              "      <td>0.183594</td>\n",
              "      <td>-0.055908</td>\n",
              "      <td>-0.031250</td>\n",
              "      <td>0.044189</td>\n",
              "      <td>-0.098633</td>\n",
              "      <td>0.028564</td>\n",
              "      <td>-0.017090</td>\n",
              "      <td>0.108887</td>\n",
              "      <td>0.143555</td>\n",
              "      <td>0.081543</td>\n",
              "      <td>-0.045898</td>\n",
              "      <td>-0.046387</td>\n",
              "    </tr>\n",
              "    <tr>\n",
              "      <th>unlawful</th>\n",
              "      <td>0.140625</td>\n",
              "      <td>-0.106445</td>\n",
              "      <td>0.031006</td>\n",
              "      <td>-0.507812</td>\n",
              "      <td>-0.279297</td>\n",
              "      <td>-0.320312</td>\n",
              "      <td>-0.109863</td>\n",
              "      <td>0.255859</td>\n",
              "      <td>-0.057129</td>\n",
              "      <td>-0.219727</td>\n",
              "      <td>0.218750</td>\n",
              "      <td>0.068359</td>\n",
              "      <td>-0.082031</td>\n",
              "      <td>0.111816</td>\n",
              "      <td>-0.105957</td>\n",
              "      <td>0.024780</td>\n",
              "      <td>0.047607</td>\n",
              "      <td>-0.333984</td>\n",
              "      <td>-0.043457</td>\n",
              "      <td>0.024414</td>\n",
              "      <td>0.328125</td>\n",
              "      <td>-0.462891</td>\n",
              "      <td>0.018677</td>\n",
              "      <td>-0.004517</td>\n",
              "      <td>0.037109</td>\n",
              "      <td>-0.523438</td>\n",
              "      <td>-0.080566</td>\n",
              "      <td>0.000016</td>\n",
              "      <td>0.053467</td>\n",
              "      <td>-0.095215</td>\n",
              "      <td>0.101074</td>\n",
              "      <td>-0.539062</td>\n",
              "      <td>0.160156</td>\n",
              "      <td>0.075195</td>\n",
              "      <td>-0.079590</td>\n",
              "      <td>0.072754</td>\n",
              "      <td>0.121582</td>\n",
              "      <td>-0.117188</td>\n",
              "      <td>-0.115234</td>\n",
              "      <td>0.063477</td>\n",
              "      <td>...</td>\n",
              "      <td>0.000046</td>\n",
              "      <td>-0.224609</td>\n",
              "      <td>0.202148</td>\n",
              "      <td>0.078125</td>\n",
              "      <td>-0.114258</td>\n",
              "      <td>0.040283</td>\n",
              "      <td>0.158203</td>\n",
              "      <td>-0.069336</td>\n",
              "      <td>-0.032715</td>\n",
              "      <td>-0.396484</td>\n",
              "      <td>0.236328</td>\n",
              "      <td>0.009155</td>\n",
              "      <td>0.239258</td>\n",
              "      <td>0.058105</td>\n",
              "      <td>0.047607</td>\n",
              "      <td>-0.038330</td>\n",
              "      <td>-0.308594</td>\n",
              "      <td>0.186523</td>\n",
              "      <td>0.052490</td>\n",
              "      <td>0.245117</td>\n",
              "      <td>-0.027954</td>\n",
              "      <td>0.437500</td>\n",
              "      <td>0.008301</td>\n",
              "      <td>0.050049</td>\n",
              "      <td>-0.339844</td>\n",
              "      <td>0.058838</td>\n",
              "      <td>-0.184570</td>\n",
              "      <td>-0.197266</td>\n",
              "      <td>0.150391</td>\n",
              "      <td>-0.000041</td>\n",
              "      <td>-0.175781</td>\n",
              "      <td>0.281250</td>\n",
              "      <td>0.136719</td>\n",
              "      <td>0.115234</td>\n",
              "      <td>-0.241211</td>\n",
              "      <td>0.023926</td>\n",
              "      <td>0.101074</td>\n",
              "      <td>-0.289062</td>\n",
              "      <td>-0.040283</td>\n",
              "      <td>-0.098145</td>\n",
              "    </tr>\n",
              "    <tr>\n",
              "      <th>withdrawal</th>\n",
              "      <td>-0.065918</td>\n",
              "      <td>0.013489</td>\n",
              "      <td>-0.149414</td>\n",
              "      <td>0.076660</td>\n",
              "      <td>-0.108887</td>\n",
              "      <td>-0.150391</td>\n",
              "      <td>0.072754</td>\n",
              "      <td>-0.273438</td>\n",
              "      <td>0.369141</td>\n",
              "      <td>0.225586</td>\n",
              "      <td>-0.021606</td>\n",
              "      <td>-0.047363</td>\n",
              "      <td>-0.164062</td>\n",
              "      <td>0.248047</td>\n",
              "      <td>-0.339844</td>\n",
              "      <td>0.398438</td>\n",
              "      <td>-0.010925</td>\n",
              "      <td>-0.109863</td>\n",
              "      <td>-0.015991</td>\n",
              "      <td>0.094238</td>\n",
              "      <td>-0.018555</td>\n",
              "      <td>0.357422</td>\n",
              "      <td>-0.146484</td>\n",
              "      <td>-0.008057</td>\n",
              "      <td>0.023804</td>\n",
              "      <td>0.230469</td>\n",
              "      <td>0.156250</td>\n",
              "      <td>-0.191406</td>\n",
              "      <td>0.123535</td>\n",
              "      <td>0.330078</td>\n",
              "      <td>0.146484</td>\n",
              "      <td>-0.281250</td>\n",
              "      <td>-0.390625</td>\n",
              "      <td>-0.189453</td>\n",
              "      <td>-0.318359</td>\n",
              "      <td>-0.294922</td>\n",
              "      <td>-0.152344</td>\n",
              "      <td>0.054932</td>\n",
              "      <td>-0.115723</td>\n",
              "      <td>-0.202148</td>\n",
              "      <td>...</td>\n",
              "      <td>0.248047</td>\n",
              "      <td>-0.102539</td>\n",
              "      <td>-0.039795</td>\n",
              "      <td>0.107910</td>\n",
              "      <td>-0.231445</td>\n",
              "      <td>-0.062988</td>\n",
              "      <td>0.118652</td>\n",
              "      <td>-0.225586</td>\n",
              "      <td>-0.320312</td>\n",
              "      <td>0.046875</td>\n",
              "      <td>-0.148438</td>\n",
              "      <td>-0.182617</td>\n",
              "      <td>-0.043701</td>\n",
              "      <td>-0.195312</td>\n",
              "      <td>0.131836</td>\n",
              "      <td>0.091309</td>\n",
              "      <td>0.001320</td>\n",
              "      <td>0.048096</td>\n",
              "      <td>-0.130859</td>\n",
              "      <td>0.081055</td>\n",
              "      <td>0.239258</td>\n",
              "      <td>-0.049316</td>\n",
              "      <td>-0.246094</td>\n",
              "      <td>-0.006622</td>\n",
              "      <td>-0.001808</td>\n",
              "      <td>0.086914</td>\n",
              "      <td>-0.190430</td>\n",
              "      <td>-0.028320</td>\n",
              "      <td>0.125000</td>\n",
              "      <td>-0.041260</td>\n",
              "      <td>-0.159180</td>\n",
              "      <td>-0.029785</td>\n",
              "      <td>-0.103027</td>\n",
              "      <td>-0.369141</td>\n",
              "      <td>-0.027588</td>\n",
              "      <td>0.191406</td>\n",
              "      <td>0.003250</td>\n",
              "      <td>-0.110352</td>\n",
              "      <td>-0.176758</td>\n",
              "      <td>0.106445</td>\n",
              "    </tr>\n",
              "  </tbody>\n",
              "</table>\n",
              "<p>3 rows × 300 columns</p>\n",
              "</div>"
            ],
            "text/plain": [
              "                 0         1         2    ...       297       298       299\n",
              "new         0.011292  0.028931  0.083496  ...  0.081543 -0.045898 -0.046387\n",
              "unlawful    0.140625 -0.106445  0.031006  ... -0.289062 -0.040283 -0.098145\n",
              "withdrawal -0.065918  0.013489 -0.149414  ... -0.110352 -0.176758  0.106445\n",
              "\n",
              "[3 rows x 300 columns]"
            ]
          },
          "metadata": {
            "tags": []
          },
          "execution_count": 40
        }
      ]
    },
    {
      "cell_type": "code",
      "metadata": {
        "id": "IYbvSS8mzrXk",
        "colab_type": "code",
        "colab": {}
      },
      "source": [
        "df = open(\"embeddings_df.pickle\",\"wb\")\n",
        "pickle.dump(embeddings_df, df)"
      ],
      "execution_count": null,
      "outputs": []
    },
    {
      "cell_type": "markdown",
      "metadata": {
        "id": "lqyg7UxWkn0E",
        "colab_type": "text"
      },
      "source": [
        "## Clustering"
      ]
    },
    {
      "cell_type": "code",
      "metadata": {
        "id": "tOVtea6ah9pO",
        "colab_type": "code",
        "colab": {}
      },
      "source": [
        "from sklearn.cluster import KMeans\n",
        "from sklearn.metrics import pairwise_distances_argmin_min"
      ],
      "execution_count": null,
      "outputs": []
    },
    {
      "cell_type": "code",
      "metadata": {
        "id": "dDYTlKSfh9nU",
        "colab_type": "code",
        "colab": {}
      },
      "source": [
        "num_of_clusters = len(embeddings_df) // 10\n",
        "\n",
        "df = embeddings_df\n",
        "\n",
        "#clustering\n",
        "    \n",
        "kmeans = KMeans(n_clusters = num_of_clusters, random_state=42).fit(df)\n",
        "group_num = kmeans.labels_\n",
        "centroids = kmeans.cluster_centers_\n",
        "\n",
        "#assign nearest word to geometric centroid in embedding space as centroid\n",
        "# find the index of the closest points from x to each class centroid\n",
        "close = pairwise_distances_argmin_min(centroids, df, metric='euclidean')\n",
        "index_closest_points = close[0]\n",
        "word_centroids = df.iloc[index_closest_points].index\n",
        "\n",
        "#create dict of group number and centroids\n",
        "centroid_dict = {}\n",
        "for i in range(len(index_closest_points)):\n",
        "    centroid_dict[i] = word_centroids[i]\n",
        "\n",
        "#create a dictionary of word and corresponding centroid\n",
        "\n",
        "#replace each label(group number) assigned by kmeans cluster algo with centroid word\n",
        "cen = [centroid_dict.get(group) for group in group_num]\n",
        "\n",
        "#create a dictionary\n",
        "word_centroid_dict = {}\n",
        "\n",
        "for i in range(df.shape[0]):\n",
        "    word_centroid_dict[df.index[i]] = cen[i]"
      ],
      "execution_count": null,
      "outputs": []
    },
    {
      "cell_type": "code",
      "metadata": {
        "id": "f4YrblelmNBz",
        "colab_type": "code",
        "colab": {}
      },
      "source": [
        "# Replacing words with the centroid of the cluster\n",
        "replaced_tokens = []\n",
        "\n",
        "for tweet in processed_df['clean_text']:\n",
        "    replaced_tokens.append([word_centroid_dict.get(word) if word in word_centroid_dict else word for word in tweet])\n",
        "processed_df['word_embedding_text'] = replaced_tokens"
      ],
      "execution_count": null,
      "outputs": []
    },
    {
      "cell_type": "code",
      "metadata": {
        "id": "saHtBOOSh9kx",
        "colab_type": "code",
        "colab": {
          "base_uri": "https://localhost:8080/",
          "height": 414
        },
        "outputId": "b5516272-d1dd-47fe-c2b2-ef7adb0f0ef9"
      },
      "source": [
        "processed_df.head()"
      ],
      "execution_count": null,
      "outputs": [
        {
          "output_type": "execute_result",
          "data": {
            "text/html": [
              "<div>\n",
              "<style scoped>\n",
              "    .dataframe tbody tr th:only-of-type {\n",
              "        vertical-align: middle;\n",
              "    }\n",
              "\n",
              "    .dataframe tbody tr th {\n",
              "        vertical-align: top;\n",
              "    }\n",
              "\n",
              "    .dataframe thead th {\n",
              "        text-align: right;\n",
              "    }\n",
              "</style>\n",
              "<table border=\"1\" class=\"dataframe\">\n",
              "  <thead>\n",
              "    <tr style=\"text-align: right;\">\n",
              "      <th></th>\n",
              "      <th>date</th>\n",
              "      <th>text</th>\n",
              "      <th>clean_text</th>\n",
              "      <th>hypernym_text</th>\n",
              "      <th>word_embedding_text</th>\n",
              "    </tr>\n",
              "  </thead>\n",
              "  <tbody>\n",
              "    <tr>\n",
              "      <th>0</th>\n",
              "      <td>2020-03-09 13:49:46+00:00</td>\n",
              "      <td>One need World to make #MAGA .\\nWe need #ParisAgreement to make Earth Great.\\n@UNEP @UN @IPCC_CH @SciNetUCS… https://t.co/BJhy83Oyaf</td>\n",
              "      <td>[one, need, world, make, need, make, earth, great]</td>\n",
              "      <td>[digit, condition, natural_object, kind, condition, kind, earth, achiever]</td>\n",
              "      <td>[schwarzenegger, need, world, stopp, need, stopp, planet, great]</td>\n",
              "    </tr>\n",
              "    <tr>\n",
              "      <th>1</th>\n",
              "      <td>2020-03-09 13:26:18+00:00</td>\n",
              "      <td>SLOW DOWN\\nGlobal #CO2 emissions from the #power sector fell by 2% last year, the biggest fall since 1990. The decli… https://t.co/fpb4a59R9k</td>\n",
              "      <td>[slow, global, emission, sector, fell, 2, last, year, big, fall, since, 1990, decli]</td>\n",
              "      <td>[decrease, global, egress, plane_figure, animal_skin, digit, end, time_period, big, season, since, 1990, decli]</td>\n",
              "      <td>[start, globa, emmission, economic, last, 4, last, year, huge, year, last, 1990, decli]</td>\n",
              "    </tr>\n",
              "    <tr>\n",
              "      <th>2</th>\n",
              "      <td>2020-03-09 13:21:51+00:00</td>\n",
              "      <td>RT @UNDPClimate: This Wednesday 11 March Switzerland &amp;amp; Ghana will share their progress on cooperative approaches aligned with #ParisAgreeme…</td>\n",
              "      <td>[wednesday, 11, march, switzerland, amp, ghana, share, progress, cooperative, approach, align]</td>\n",
              "      <td>[weekday, large_integer, Gregorian_calendar_month, switzerland, current_unit, ghana, assets, development, commercial_enterprise, conceptualization, reorient]</td>\n",
              "      <td>[thursday, 11, march, switzerland, schwarzenegger, switzerland, innova, start, innova, innova, implement]</td>\n",
              "    </tr>\n",
              "    <tr>\n",
              "      <th>3</th>\n",
              "      <td>2020-03-09 13:21:42+00:00</td>\n",
              "      <td>RT @UNDPClimate: This Wednesday 11 March Switzerland &amp;amp; Ghana will share their progress on cooperative approaches aligned with #ParisAgreeme…</td>\n",
              "      <td>[wednesday, 11, march, switzerland, amp, ghana, share, progress, cooperative, approach, align]</td>\n",
              "      <td>[weekday, large_integer, Gregorian_calendar_month, switzerland, current_unit, ghana, assets, development, commercial_enterprise, conceptualization, reorient]</td>\n",
              "      <td>[thursday, 11, march, switzerland, schwarzenegger, switzerland, innova, start, innova, innova, implement]</td>\n",
              "    </tr>\n",
              "    <tr>\n",
              "      <th>4</th>\n",
              "      <td>2020-03-09 13:20:13+00:00</td>\n",
              "      <td>This Wednesday 11 March Switzerland &amp;amp; Ghana will share their progress on cooperative approaches aligned with… https://t.co/SWygs30ODi</td>\n",
              "      <td>[wednesday, 11, march, switzerland, amp, ghana, share, progress, cooperative, approach, align]</td>\n",
              "      <td>[weekday, large_integer, Gregorian_calendar_month, switzerland, current_unit, ghana, assets, development, commercial_enterprise, conceptualization, reorient]</td>\n",
              "      <td>[thursday, 11, march, switzerland, schwarzenegger, switzerland, innova, start, innova, innova, implement]</td>\n",
              "    </tr>\n",
              "  </tbody>\n",
              "</table>\n",
              "</div>"
            ],
            "text/plain": [
              "                       date  ...                                                                                        word_embedding_text\n",
              "0 2020-03-09 13:49:46+00:00  ...                                           [schwarzenegger, need, world, stopp, need, stopp, planet, great]\n",
              "1 2020-03-09 13:26:18+00:00  ...                    [start, globa, emmission, economic, last, 4, last, year, huge, year, last, 1990, decli]\n",
              "2 2020-03-09 13:21:51+00:00  ...  [thursday, 11, march, switzerland, schwarzenegger, switzerland, innova, start, innova, innova, implement]\n",
              "3 2020-03-09 13:21:42+00:00  ...  [thursday, 11, march, switzerland, schwarzenegger, switzerland, innova, start, innova, innova, implement]\n",
              "4 2020-03-09 13:20:13+00:00  ...  [thursday, 11, march, switzerland, schwarzenegger, switzerland, innova, start, innova, innova, implement]\n",
              "\n",
              "[5 rows x 5 columns]"
            ]
          },
          "metadata": {
            "tags": []
          },
          "execution_count": 21
        }
      ]
    },
    {
      "cell_type": "markdown",
      "metadata": {
        "id": "0xQktOkqnp_W",
        "colab_type": "text"
      },
      "source": [
        "List of unique words, along with their cluster centroids and categories."
      ]
    },
    {
      "cell_type": "code",
      "metadata": {
        "id": "W6pbR3bVh9eu",
        "colab_type": "code",
        "colab": {}
      },
      "source": [
        "# categories = [\"climate\", \"world\", \"state\", \"member\", \"globe\", \"recycling\", \"money\", \"future\", \"strategy\", \"action\"]\n",
        "categories = ['weather', 'Pollution', 'Policy', 'Action', 'Environment', 'Plastic', 'Initiatives', 'Recycle', 'Earth', 'People']"
      ],
      "execution_count": null,
      "outputs": []
    },
    {
      "cell_type": "code",
      "metadata": {
        "id": "UjrvWXrgh9W5",
        "colab_type": "code",
        "colab": {}
      },
      "source": [
        "# assign each unique token to a category from the above list\n",
        "words_to_categories = {}\n",
        "for word in unique_tokens:\n",
        "    similarities = []\n",
        "    for c in categories:\n",
        "        if(word in model.vocab):\n",
        "            similarities.append((c, model.similarity(c, word)))\n",
        "        else:\n",
        "            similarities.append((word, 0))\n",
        "    words_to_categories[word] = sorted(similarities, key = lambda x: x[1], reverse=True)[0][0]"
      ],
      "execution_count": null,
      "outputs": []
    },
    {
      "cell_type": "code",
      "metadata": {
        "id": "IlSY5fjLsf-0",
        "colab_type": "code",
        "colab": {}
      },
      "source": [
        "# assign each unique token with its centroid word form the corresponding cluster\n",
        "words_to_centroids = {}\n",
        "for word in unique_tokens:\n",
        "    words_to_centroids[word] = word_centroid_dict.get(word) or word"
      ],
      "execution_count": null,
      "outputs": []
    },
    {
      "cell_type": "code",
      "metadata": {
        "id": "zg7KWqpH0kJy",
        "colab_type": "code",
        "colab": {}
      },
      "source": [
        "repalced_words = pd.DataFrame()\n",
        "repalced_words['words'] = words_to_centroids.keys()\n",
        "repalced_words['centroids'] = words_to_centroids.values()\n",
        "repalced_words['categories'] = words_to_categories.values()"
      ],
      "execution_count": null,
      "outputs": []
    },
    {
      "cell_type": "code",
      "metadata": {
        "id": "J5Vk5LLI2RpN",
        "colab_type": "code",
        "colab": {
          "base_uri": "https://localhost:8080/",
          "height": 195
        },
        "outputId": "3ef3c195-a372-49ec-f91b-67b650b04251"
      },
      "source": [
        "repalced_words.head()"
      ],
      "execution_count": null,
      "outputs": [
        {
          "output_type": "execute_result",
          "data": {
            "text/html": [
              "<div>\n",
              "<style scoped>\n",
              "    .dataframe tbody tr th:only-of-type {\n",
              "        vertical-align: middle;\n",
              "    }\n",
              "\n",
              "    .dataframe tbody tr th {\n",
              "        vertical-align: top;\n",
              "    }\n",
              "\n",
              "    .dataframe thead th {\n",
              "        text-align: right;\n",
              "    }\n",
              "</style>\n",
              "<table border=\"1\" class=\"dataframe\">\n",
              "  <thead>\n",
              "    <tr style=\"text-align: right;\">\n",
              "      <th></th>\n",
              "      <th>words</th>\n",
              "      <th>centroids</th>\n",
              "      <th>categories</th>\n",
              "    </tr>\n",
              "  </thead>\n",
              "  <tbody>\n",
              "    <tr>\n",
              "      <th>0</th>\n",
              "      <td>shell</td>\n",
              "      <td>schwarzenegger</td>\n",
              "      <td>Plastic</td>\n",
              "    </tr>\n",
              "    <tr>\n",
              "      <th>1</th>\n",
              "      <td>julie</td>\n",
              "      <td>bernie</td>\n",
              "      <td>People</td>\n",
              "    </tr>\n",
              "    <tr>\n",
              "      <th>2</th>\n",
              "      <td>pa</td>\n",
              "      <td>questi</td>\n",
              "      <td>Plastic</td>\n",
              "    </tr>\n",
              "    <tr>\n",
              "      <th>3</th>\n",
              "      <td>across</td>\n",
              "      <td>schwarzenegger</td>\n",
              "      <td>weather</td>\n",
              "    </tr>\n",
              "    <tr>\n",
              "      <th>4</th>\n",
              "      <td>unrest</td>\n",
              "      <td>crisis</td>\n",
              "      <td>weather</td>\n",
              "    </tr>\n",
              "  </tbody>\n",
              "</table>\n",
              "</div>"
            ],
            "text/plain": [
              "    words       centroids categories\n",
              "0   shell  schwarzenegger    Plastic\n",
              "1   julie          bernie     People\n",
              "2      pa          questi    Plastic\n",
              "3  across  schwarzenegger    weather\n",
              "4  unrest          crisis    weather"
            ]
          },
          "metadata": {
            "tags": []
          },
          "execution_count": 26
        }
      ]
    },
    {
      "cell_type": "code",
      "metadata": {
        "id": "0_crKbwm0j42",
        "colab_type": "code",
        "colab": {}
      },
      "source": [
        "repalced_words.to_csv(\"repalced_words.csv\", index=False, header = True)"
      ],
      "execution_count": null,
      "outputs": []
    },
    {
      "cell_type": "code",
      "metadata": {
        "id": "QQmW3cft3o5Z",
        "colab_type": "code",
        "colab": {
          "base_uri": "https://localhost:8080/",
          "height": 414
        },
        "outputId": "b3876ba1-c648-4fd3-c6ed-edfbeab0d0aa"
      },
      "source": [
        "processed_df.head()"
      ],
      "execution_count": null,
      "outputs": [
        {
          "output_type": "execute_result",
          "data": {
            "text/html": [
              "<div>\n",
              "<style scoped>\n",
              "    .dataframe tbody tr th:only-of-type {\n",
              "        vertical-align: middle;\n",
              "    }\n",
              "\n",
              "    .dataframe tbody tr th {\n",
              "        vertical-align: top;\n",
              "    }\n",
              "\n",
              "    .dataframe thead th {\n",
              "        text-align: right;\n",
              "    }\n",
              "</style>\n",
              "<table border=\"1\" class=\"dataframe\">\n",
              "  <thead>\n",
              "    <tr style=\"text-align: right;\">\n",
              "      <th></th>\n",
              "      <th>date</th>\n",
              "      <th>text</th>\n",
              "      <th>clean_text</th>\n",
              "      <th>hypernym_text</th>\n",
              "      <th>word_embedding_text</th>\n",
              "    </tr>\n",
              "  </thead>\n",
              "  <tbody>\n",
              "    <tr>\n",
              "      <th>0</th>\n",
              "      <td>2020-03-09 13:49:46+00:00</td>\n",
              "      <td>One need World to make #MAGA .\\nWe need #ParisAgreement to make Earth Great.\\n@UNEP @UN @IPCC_CH @SciNetUCS… https://t.co/BJhy83Oyaf</td>\n",
              "      <td>[one, need, world, make, need, make, earth, great]</td>\n",
              "      <td>[digit, condition, natural_object, kind, condition, kind, earth, achiever]</td>\n",
              "      <td>[schwarzenegger, need, world, stopp, need, stopp, planet, great]</td>\n",
              "    </tr>\n",
              "    <tr>\n",
              "      <th>1</th>\n",
              "      <td>2020-03-09 13:26:18+00:00</td>\n",
              "      <td>SLOW DOWN\\nGlobal #CO2 emissions from the #power sector fell by 2% last year, the biggest fall since 1990. The decli… https://t.co/fpb4a59R9k</td>\n",
              "      <td>[slow, global, emission, sector, fell, 2, last, year, big, fall, since, 1990, decli]</td>\n",
              "      <td>[decrease, global, egress, plane_figure, animal_skin, digit, end, time_period, big, season, since, 1990, decli]</td>\n",
              "      <td>[start, globa, emmission, economic, last, 4, last, year, huge, year, last, 1990, decli]</td>\n",
              "    </tr>\n",
              "    <tr>\n",
              "      <th>2</th>\n",
              "      <td>2020-03-09 13:21:51+00:00</td>\n",
              "      <td>RT @UNDPClimate: This Wednesday 11 March Switzerland &amp;amp; Ghana will share their progress on cooperative approaches aligned with #ParisAgreeme…</td>\n",
              "      <td>[wednesday, 11, march, switzerland, amp, ghana, share, progress, cooperative, approach, align]</td>\n",
              "      <td>[weekday, large_integer, Gregorian_calendar_month, switzerland, current_unit, ghana, assets, development, commercial_enterprise, conceptualization, reorient]</td>\n",
              "      <td>[thursday, 11, march, switzerland, schwarzenegger, switzerland, innova, start, innova, innova, implement]</td>\n",
              "    </tr>\n",
              "    <tr>\n",
              "      <th>3</th>\n",
              "      <td>2020-03-09 13:21:42+00:00</td>\n",
              "      <td>RT @UNDPClimate: This Wednesday 11 March Switzerland &amp;amp; Ghana will share their progress on cooperative approaches aligned with #ParisAgreeme…</td>\n",
              "      <td>[wednesday, 11, march, switzerland, amp, ghana, share, progress, cooperative, approach, align]</td>\n",
              "      <td>[weekday, large_integer, Gregorian_calendar_month, switzerland, current_unit, ghana, assets, development, commercial_enterprise, conceptualization, reorient]</td>\n",
              "      <td>[thursday, 11, march, switzerland, schwarzenegger, switzerland, innova, start, innova, innova, implement]</td>\n",
              "    </tr>\n",
              "    <tr>\n",
              "      <th>4</th>\n",
              "      <td>2020-03-09 13:20:13+00:00</td>\n",
              "      <td>This Wednesday 11 March Switzerland &amp;amp; Ghana will share their progress on cooperative approaches aligned with… https://t.co/SWygs30ODi</td>\n",
              "      <td>[wednesday, 11, march, switzerland, amp, ghana, share, progress, cooperative, approach, align]</td>\n",
              "      <td>[weekday, large_integer, Gregorian_calendar_month, switzerland, current_unit, ghana, assets, development, commercial_enterprise, conceptualization, reorient]</td>\n",
              "      <td>[thursday, 11, march, switzerland, schwarzenegger, switzerland, innova, start, innova, innova, implement]</td>\n",
              "    </tr>\n",
              "  </tbody>\n",
              "</table>\n",
              "</div>"
            ],
            "text/plain": [
              "                       date  ...                                                                                        word_embedding_text\n",
              "0 2020-03-09 13:49:46+00:00  ...                                           [schwarzenegger, need, world, stopp, need, stopp, planet, great]\n",
              "1 2020-03-09 13:26:18+00:00  ...                    [start, globa, emmission, economic, last, 4, last, year, huge, year, last, 1990, decli]\n",
              "2 2020-03-09 13:21:51+00:00  ...  [thursday, 11, march, switzerland, schwarzenegger, switzerland, innova, start, innova, innova, implement]\n",
              "3 2020-03-09 13:21:42+00:00  ...  [thursday, 11, march, switzerland, schwarzenegger, switzerland, innova, start, innova, innova, implement]\n",
              "4 2020-03-09 13:20:13+00:00  ...  [thursday, 11, march, switzerland, schwarzenegger, switzerland, innova, start, innova, innova, implement]\n",
              "\n",
              "[5 rows x 5 columns]"
            ]
          },
          "metadata": {
            "tags": []
          },
          "execution_count": 28
        }
      ]
    },
    {
      "cell_type": "markdown",
      "metadata": {
        "id": "WXWZFAjp3Iug",
        "colab_type": "text"
      },
      "source": [
        "## Score Generation"
      ]
    },
    {
      "cell_type": "code",
      "metadata": {
        "id": "GPnm14OB0j0j",
        "colab_type": "code",
        "colab": {
          "base_uri": "https://localhost:8080/",
          "height": 34
        },
        "outputId": "faa3c9e1-fd68-48bf-d164-68f0b8e25a59"
      },
      "source": [
        "\n",
        "def get_wordnet_pos(word):\n",
        "    '''\n",
        "    Convert the PennTreebank tags to simple Wordnet tags\n",
        "    '''\n",
        "    tag = pos_tag([word])[0][1][0].upper()\n",
        "\n",
        "    tag_dict = {\"J\": wn.ADJ,\n",
        "                \"N\": wn.NOUN,\n",
        "                \"V\": wn.VERB,\n",
        "                \"R\": wn.ADV}\n",
        "\n",
        "    return tag_dict.get(tag, wn.NOUN)\n",
        "\n",
        "\n",
        "def sentimentAnalyser(text):\n",
        "    '''\n",
        "    This Function generates normalized sentiment score and a sentiment category to the tweet.\n",
        "        Score is normalized for fairer comparison.\n",
        "    '''\n",
        "    # to count no. of words which bear scores\n",
        "    num_of_words = 0\n",
        "    sentiment_score = 0\n",
        "    final_score = 0\n",
        "\n",
        "    # sent_token = sent_tokenize(text)\n",
        "    word_token = [word_tokenize(sent) for sent in text]\n",
        "    word_pos_tag = [pos_tag(word) for word in word_token]\n",
        "\n",
        "    for i in range(len(word_pos_tag)):\n",
        "        for word, tag in (word_pos_tag[i]):\n",
        "            wn_tag = get_wordnet_pos(tag)\n",
        "\n",
        "            synsets = wn.synsets(word, pos=wn_tag)\n",
        "\n",
        "            if not synsets:\n",
        "                continue\n",
        "\n",
        "            word_sent_score = 0\n",
        "            synset_count = 0\n",
        "            # Calculate the aveage sentiment score of first 5 synsets of given word\n",
        "            for synset in synsets:\n",
        "                synset_count += 1\n",
        "                swn_synset = swn.senti_synset(synset.name())\n",
        "                word_sent_score += swn_synset.pos_score() - swn_synset.neg_score()\n",
        "                num_of_words += 1\n",
        "                if(synset_count==5):\n",
        "                    continue\n",
        "\n",
        "            sentiment_score += word_sent_score\n",
        "    if(num_of_words==0):\n",
        "      normalized_score = 0\n",
        "    else:\n",
        "      normalized_score = round(sentiment_score/num_of_words, 3)\n",
        "\n",
        "    # Classify reviews according to setiment score assigned\n",
        "    # 1 : positive, 0 : neutral, -1 : negative\n",
        "    if normalized_score > 0:\n",
        "        final_score = 1\n",
        "    elif normalized_score < 0:\n",
        "        final_score = -1\n",
        "    elif normalized_score == 0:\n",
        "        final_score = 0\n",
        "\n",
        "    return final_score\n",
        "\n",
        "\n",
        "if __name__ == \"__main__\":\n",
        "    processed_df\n",
        "    processed_tweets = processed_df['clean_text']\n",
        "    scores = []\n",
        "    for tweet in processed_tweets:\n",
        "        scores.append(sentimentAnalyser(tweet))\n",
        "    processed_df['score'] = scores\n",
        "    # tweet = '''next establish question use question mark liberally indicate question think face indicate not understand \n",
        "    # say question compose 3040 communication critical emoji discovery\n",
        "    # '''\n",
        "    # tweet_with_score = sentimentAnalyser(tweet)\n",
        "    # print(tweet_with_score)\n",
        "    processed_word_embedding_tweets = processed_df['word_embedding_text']\n",
        "    word_embedding_scores = []\n",
        "    for tweet in processed_word_embedding_tweets:\n",
        "        word_embedding_scores.append(sentimentAnalyser(tweet))\n",
        "    processed_df['word_embedding_scores'] = word_embedding_scores\n",
        "\n",
        "    processed_hypernymn_tweets = processed_df['hypernym_text']\n",
        "    hypernymn_scores = []\n",
        "    for tweet in processed_hypernymn_tweets:\n",
        "        hypernymn_scores.append(sentimentAnalyser(tweet))\n",
        "    processed_df['hypernymn_scores'] = hypernymn_scores\n",
        "\n",
        "    print(\"Executed Successfully\")"
      ],
      "execution_count": null,
      "outputs": [
        {
          "output_type": "stream",
          "text": [
            "Executed Successfully\n"
          ],
          "name": "stdout"
        }
      ]
    },
    {
      "cell_type": "code",
      "metadata": {
        "id": "pFLH1Kgy_Nkc",
        "colab_type": "code",
        "colab": {
          "base_uri": "https://localhost:8080/",
          "height": 498
        },
        "outputId": "b1d8f3fc-86cf-4a2e-9ecd-142db9292004"
      },
      "source": [
        "processed_df.head()"
      ],
      "execution_count": null,
      "outputs": [
        {
          "output_type": "execute_result",
          "data": {
            "text/html": [
              "<div>\n",
              "<style scoped>\n",
              "    .dataframe tbody tr th:only-of-type {\n",
              "        vertical-align: middle;\n",
              "    }\n",
              "\n",
              "    .dataframe tbody tr th {\n",
              "        vertical-align: top;\n",
              "    }\n",
              "\n",
              "    .dataframe thead th {\n",
              "        text-align: right;\n",
              "    }\n",
              "</style>\n",
              "<table border=\"1\" class=\"dataframe\">\n",
              "  <thead>\n",
              "    <tr style=\"text-align: right;\">\n",
              "      <th></th>\n",
              "      <th>date</th>\n",
              "      <th>text</th>\n",
              "      <th>clean_text</th>\n",
              "      <th>hypernym_text</th>\n",
              "      <th>word_embedding_text</th>\n",
              "      <th>score</th>\n",
              "      <th>word_embedding_scores</th>\n",
              "      <th>hypernymn_scores</th>\n",
              "    </tr>\n",
              "  </thead>\n",
              "  <tbody>\n",
              "    <tr>\n",
              "      <th>0</th>\n",
              "      <td>2020-03-09 13:49:46+00:00</td>\n",
              "      <td>One need World to make #MAGA .\\nWe need #ParisAgreement to make Earth Great.\\n@UNEP @UN @IPCC_CH @SciNetUCS… https://t.co/BJhy83Oyaf</td>\n",
              "      <td>[one, need, world, make, need, make, earth, great]</td>\n",
              "      <td>[digit, condition, natural_object, kind, condition, kind, earth, achiever]</td>\n",
              "      <td>[schwarzenegger, need, world, stopp, need, stopp, planet, great]</td>\n",
              "      <td>-1</td>\n",
              "      <td>-1</td>\n",
              "      <td>1</td>\n",
              "    </tr>\n",
              "    <tr>\n",
              "      <th>1</th>\n",
              "      <td>2020-03-09 13:26:18+00:00</td>\n",
              "      <td>SLOW DOWN\\nGlobal #CO2 emissions from the #power sector fell by 2% last year, the biggest fall since 1990. The decli… https://t.co/fpb4a59R9k</td>\n",
              "      <td>[slow, global, emission, sector, fell, 2, last, year, big, fall, since, 1990, decli]</td>\n",
              "      <td>[decrease, global, egress, plane_figure, animal_skin, digit, end, time_period, big, season, since, 1990, decli]</td>\n",
              "      <td>[start, globa, emmission, economic, last, 4, last, year, huge, year, last, 1990, decli]</td>\n",
              "      <td>-1</td>\n",
              "      <td>1</td>\n",
              "      <td>1</td>\n",
              "    </tr>\n",
              "    <tr>\n",
              "      <th>2</th>\n",
              "      <td>2020-03-09 13:21:51+00:00</td>\n",
              "      <td>RT @UNDPClimate: This Wednesday 11 March Switzerland &amp;amp; Ghana will share their progress on cooperative approaches aligned with #ParisAgreeme…</td>\n",
              "      <td>[wednesday, 11, march, switzerland, amp, ghana, share, progress, cooperative, approach, align]</td>\n",
              "      <td>[weekday, large_integer, Gregorian_calendar_month, switzerland, current_unit, ghana, assets, development, commercial_enterprise, conceptualization, reorient]</td>\n",
              "      <td>[thursday, 11, march, switzerland, schwarzenegger, switzerland, innova, start, innova, innova, implement]</td>\n",
              "      <td>1</td>\n",
              "      <td>-1</td>\n",
              "      <td>1</td>\n",
              "    </tr>\n",
              "    <tr>\n",
              "      <th>3</th>\n",
              "      <td>2020-03-09 13:21:42+00:00</td>\n",
              "      <td>RT @UNDPClimate: This Wednesday 11 March Switzerland &amp;amp; Ghana will share their progress on cooperative approaches aligned with #ParisAgreeme…</td>\n",
              "      <td>[wednesday, 11, march, switzerland, amp, ghana, share, progress, cooperative, approach, align]</td>\n",
              "      <td>[weekday, large_integer, Gregorian_calendar_month, switzerland, current_unit, ghana, assets, development, commercial_enterprise, conceptualization, reorient]</td>\n",
              "      <td>[thursday, 11, march, switzerland, schwarzenegger, switzerland, innova, start, innova, innova, implement]</td>\n",
              "      <td>1</td>\n",
              "      <td>-1</td>\n",
              "      <td>1</td>\n",
              "    </tr>\n",
              "    <tr>\n",
              "      <th>4</th>\n",
              "      <td>2020-03-09 13:20:13+00:00</td>\n",
              "      <td>This Wednesday 11 March Switzerland &amp;amp; Ghana will share their progress on cooperative approaches aligned with… https://t.co/SWygs30ODi</td>\n",
              "      <td>[wednesday, 11, march, switzerland, amp, ghana, share, progress, cooperative, approach, align]</td>\n",
              "      <td>[weekday, large_integer, Gregorian_calendar_month, switzerland, current_unit, ghana, assets, development, commercial_enterprise, conceptualization, reorient]</td>\n",
              "      <td>[thursday, 11, march, switzerland, schwarzenegger, switzerland, innova, start, innova, innova, implement]</td>\n",
              "      <td>1</td>\n",
              "      <td>-1</td>\n",
              "      <td>1</td>\n",
              "    </tr>\n",
              "  </tbody>\n",
              "</table>\n",
              "</div>"
            ],
            "text/plain": [
              "                       date  ... hypernymn_scores\n",
              "0 2020-03-09 13:49:46+00:00  ...                1\n",
              "1 2020-03-09 13:26:18+00:00  ...                1\n",
              "2 2020-03-09 13:21:51+00:00  ...                1\n",
              "3 2020-03-09 13:21:42+00:00  ...                1\n",
              "4 2020-03-09 13:20:13+00:00  ...                1\n",
              "\n",
              "[5 rows x 8 columns]"
            ]
          },
          "metadata": {
            "tags": []
          },
          "execution_count": 30
        }
      ]
    },
    {
      "cell_type": "code",
      "metadata": {
        "id": "5QPctcdzOtEJ",
        "colab_type": "code",
        "colab": {}
      },
      "source": [
        "final_df = open(\"final_df.pickle\",\"wb\")\n",
        "pickle.dump(processed_df, final_df)"
      ],
      "execution_count": null,
      "outputs": []
    },
    {
      "cell_type": "code",
      "metadata": {
        "id": "bkWbuPjLO10Q",
        "colab_type": "code",
        "colab": {}
      },
      "source": [
        "final_df = open(\"final_df.pickle\", \"rb\")\n",
        "processed_df = pickle.load(final_df)"
      ],
      "execution_count": null,
      "outputs": []
    },
    {
      "cell_type": "code",
      "metadata": {
        "id": "0ha0gXUZqUUm",
        "colab_type": "code",
        "colab": {}
      },
      "source": [
        "processed_df.to_csv(\"results.csv\", index=False)"
      ],
      "execution_count": null,
      "outputs": []
    },
    {
      "cell_type": "code",
      "metadata": {
        "id": "dZQKE7QQiyx2",
        "colab_type": "code",
        "colab": {
          "base_uri": "https://localhost:8080/",
          "height": 840
        },
        "outputId": "6c942c34-ba23-4e5a-9bd9-86ce8bceab57"
      },
      "source": [
        "for n in range(0,100,20):\n",
        "    print(\"date:\", processed_df[\"date\"][n] )\n",
        "    print(\"original_tweet:\", processed_df[\"text\"][n])\n",
        "    print(\"processed_tweet:\", processed_df[\"clean_text\"][n])\n",
        "    print(\"replaced_centroids_tweet:\", processed_df[\"word_embedding_text\"][n])\n",
        "    print(\"hypernymn_text:\", processed_df[\"hypernym_text\"][n])\n",
        "    print(\"sentiment_score:\", processed_df[\"score\"][n])\n",
        "    print(\"sentiment_score_with_embeddings:\", processed_df[\"word_embedding_scores\"][n])\n",
        "    print(\"hypernymn_scores:\", processed_df[\"hypernymn_scores\"][n],'\\n')"
      ],
      "execution_count": null,
      "outputs": [
        {
          "output_type": "stream",
          "text": [
            "date: 2020-03-09 13:49:46+00:00\n",
            "original_tweet: One need World to make #MAGA .\n",
            "We need #ParisAgreement to make Earth Great.\n",
            "@UNEP @UN @IPCC_CH @SciNetUCS… https://t.co/BJhy83Oyaf\n",
            "processed_tweet: ['one', 'need', 'world', 'make', 'need', 'make', 'earth', 'great']\n",
            "replaced_centroids_tweet: ['schwarzenegger', 'need', 'world', 'stopp', 'need', 'stopp', 'planet', 'great']\n",
            "hypernymn_text: ['digit', 'condition', 'natural_object', 'kind', 'condition', 'kind', 'earth', 'achiever']\n",
            "sentiment_score: -1\n",
            "sentiment_score_with_embeddings: -1\n",
            "hypernymn_scores: 1 \n",
            "\n",
            "date: 2020-03-09 11:36:09+00:00\n",
            "original_tweet: RT @PinkPetro: \"Millions of minds and souls insisted upon a single, solitary truth: the #ParisAgreement is historic, essential, and here to…\n",
            "processed_tweet: ['million', 'mind', 'soul', 'insist', 'upon', 'single', 'solitary', 'truth', 'historic', 'essential']\n",
            "replaced_centroids_tweet: ['roughly', 'actually', 'schwarzenegger', 'know', 'schwarzenegger', 'schwarzenegger', 'schwarzenegger', 'stopp', 'innova', 'important']\n",
            "hypernymn_text: ['large_integer', 'cognition', 'spirit', 'insist', 'upon', 'base_hit', 'confinement', 'fact', 'historic', 'thing']\n",
            "sentiment_score: 1\n",
            "sentiment_score_with_embeddings: 1\n",
            "hypernymn_scores: 1 \n",
            "\n",
            "date: 2020-03-09 09:15:46+00:00\n",
            "original_tweet: RT @JudithHartmann_: I am verry happy to share that @ENGIEgroup has recently been certified #SBT @sciencetargets, being the first multi-ene…\n",
            "processed_tweet: ['verry', 'happy', 'share', 'recently', 'certify', 'first', 'multiene']\n",
            "replaced_centroids_tweet: ['schwarzenegger', 'pleased', 'innova', 'also', 'evaluate', 'last', 'multiene']\n",
            "hypernymn_text: ['verry', 'happy', 'assets', 'recently', 'testify', 'rank', 'multiene']\n",
            "sentiment_score: 1\n",
            "sentiment_score_with_embeddings: 1\n",
            "hypernymn_scores: 1 \n",
            "\n",
            "date: 2020-03-09 06:05:20+00:00\n",
            "original_tweet: FYI @POTUS.\n",
            "#ParisAgreement is all about learning  \" how to care our Mother Earth\".\n",
            "It's a #ClimateAction on… https://t.co/opaYNDVXOT\n",
            "processed_tweet: ['fyi', 'learn', 'care', 'mother', 'earth']\n",
            "replaced_centroids_tweet: ['jeezy', 'know', 'innova', 'someone', 'planet']\n",
            "hypernymn_text: ['fyi', 'learn', 'work', 'parent', 'earth']\n",
            "sentiment_score: -1\n",
            "sentiment_score_with_embeddings: 1\n",
            "hypernymn_scores: -1 \n",
            "\n",
            "date: 2020-03-09 04:01:40+00:00\n",
            "original_tweet: RT @RichieMerzian: The most senior UN official in charge of the development and adoption of the #ParisAgreement offloaded on the Aus Gov \"i…\n",
            "processed_tweet: ['senior', 'un', 'official', 'charge', 'development', 'adoption', 'offload', 'au', 'gov']\n",
            "replaced_centroids_tweet: ['innova', 'schwarzenegger', 'innova', 'innova', 'innova', 'innova', 'move', 'la', 'gov']\n",
            "hypernymn_text: ['undergraduate', 'world_organization', 'skilled_worker', 'attack', 'improvement', 'blessing', 'transfer', 'noble_metal', 'gov']\n",
            "sentiment_score: -1\n",
            "sentiment_score_with_embeddings: -1\n",
            "hypernymn_scores: 1 \n",
            "\n"
          ],
          "name": "stdout"
        }
      ]
    },
    {
      "cell_type": "code",
      "metadata": {
        "id": "jNo9Z1qt91g_",
        "colab_type": "code",
        "colab": {
          "base_uri": "https://localhost:8080/",
          "height": 168
        },
        "outputId": "4d25f89a-1181-4951-8158-5ecd1849a856"
      },
      "source": [
        "length = len(processed_df)\n",
        "count = 0\n",
        "for i in range(len(processed_df)):\n",
        "    if(processed_df['score'][i] != processed_df['word_embedding_scores'][i]):\n",
        "        count+=1\n",
        "print(\"comparing clean text scores with word embeding scores\")\n",
        "print(\" total tweets: {}\\n same score: {}\\n different score: {}\\n\".format(length, length - count, count))\n",
        "\n",
        "hypernynm_count = 0\n",
        "for i in range(len(processed_df)):\n",
        "    if(processed_df['score'][i] != processed_df['hypernymn_scores'][i]):\n",
        "        hypernynm_count+=1\n",
        "print(\"comparing clean text scores with hypernymn scores\")\n",
        "print(\" total tweets: {}\\n same score: {}\\n different score: {}\".format(length, length - hypernynm_count, hypernynm_count))"
      ],
      "execution_count": null,
      "outputs": [
        {
          "output_type": "stream",
          "text": [
            "comparing clean text scores with word embeding scores\n",
            " total tweets: 4437\n",
            " same score: 2180\n",
            " different score: 2257\n",
            "\n",
            "comparing clean text scores with hypernymn scores\n",
            " total tweets: 4437\n",
            " same score: 2350\n",
            " different score: 2087\n"
          ],
          "name": "stdout"
        }
      ]
    },
    {
      "cell_type": "code",
      "metadata": {
        "id": "Fn6-Xx57QSOr",
        "colab_type": "code",
        "colab": {}
      },
      "source": [
        "positive_count_1 = processed_df[processed_df['score']==1]['score'].count()\n",
        "positive_count_2 = processed_df[processed_df['hypernymn_scores']==1]['hypernymn_scores'].count()\n",
        "positive_count_3 = processed_df[processed_df['word_embedding_scores']==1]['word_embedding_scores'].count()\n",
        "\n",
        "negative_count_1 = processed_df[processed_df['score']==-1]['score'].count()\n",
        "negative_count_2 = processed_df[processed_df['hypernymn_scores']==-1]['hypernymn_scores'].count()\n",
        "negative_count_3 = processed_df[processed_df['word_embedding_scores']==-1]['word_embedding_scores'].count()\n",
        "\n",
        "neutral_count_1 = processed_df[processed_df['score']==0]['score'].count()\n",
        "neutral_count_2 = processed_df[processed_df['hypernymn_scores']==0]['hypernymn_scores'].count()\n",
        "neutral_count_3 = processed_df[processed_df['word_embedding_scores']==0]['word_embedding_scores'].count()"
      ],
      "execution_count": null,
      "outputs": []
    },
    {
      "cell_type": "code",
      "metadata": {
        "id": "Nn92iihaxqTL",
        "colab_type": "code",
        "colab": {}
      },
      "source": [
        "# sns bar plot\n",
        "senti_score_df = pd.DataFrame([[positive_count_1, negative_count_1, neutral_count_1], \n",
        "                               [positive_count_2, negative_count_2, neutral_count_2],\n",
        "                               [positive_count_3, negative_count_3, neutral_count_3]\n",
        "                               ], \n",
        "                              index = ['Clean Text', 'Hypernyms', 'Word Vectors'],\n",
        "                              columns=['Positive', 'Negative', 'Neutral'])"
      ],
      "execution_count": null,
      "outputs": []
    },
    {
      "cell_type": "code",
      "metadata": {
        "id": "gzMnThn6R9dz",
        "colab_type": "code",
        "colab": {
          "base_uri": "https://localhost:8080/",
          "height": 441
        },
        "outputId": "96e297eb-3334-430d-f8fe-870e7c55544e"
      },
      "source": [
        "fig, ax = plt.subplots(figsize=(10,6))\n",
        "senti_score_df.plot(kind='bar' ,ax=ax)\n",
        "plt.xticks(rotation=0)\n",
        "plt.tight_layout()\n",
        "plt.savefig('score_count.png')"
      ],
      "execution_count": null,
      "outputs": [
        {
          "output_type": "display_data",
          "data": {
            "image/png": "[encoded data removed]",
            "text/plain": [
              "<Figure size 720x432 with 1 Axes>"
            ]
          },
          "metadata": {
            "tags": [],
            "needs_background": "light"
          }
        }
      ]
    },
    {
      "cell_type": "markdown",
      "metadata": {
        "id": "NtaaRDgL5t6Q",
        "colab_type": "text"
      },
      "source": [
        "## Visualization"
      ]
    },
    {
      "cell_type": "code",
      "metadata": {
        "id": "5vwCIobscsh9",
        "colab_type": "code",
        "colab": {
          "base_uri": "https://localhost:8080/",
          "height": 286
        },
        "outputId": "f204150a-cfef-43a4-d03d-490107052d90"
      },
      "source": [
        "pip install adjustText"
      ],
      "execution_count": null,
      "outputs": [
        {
          "output_type": "stream",
          "text": [
            "Collecting adjustText\n",
            "  Downloading https://files.pythonhosted.org/packages/9e/15/4157718bf323fd5f5b81c891c660d0f388e042d2689a558bf1389632dc44/adjustText-0.7.3.tar.gz\n",
            "Requirement already satisfied: numpy in /usr/local/lib/python3.6/dist-packages (from adjustText) (1.18.5)\n",
            "Requirement already satisfied: matplotlib in /usr/local/lib/python3.6/dist-packages (from adjustText) (3.2.2)\n",
            "Requirement already satisfied: kiwisolver>=1.0.1 in /usr/local/lib/python3.6/dist-packages (from matplotlib->adjustText) (1.2.0)\n",
            "Requirement already satisfied: pyparsing!=2.0.4,!=2.1.2,!=2.1.6,>=2.0.1 in /usr/local/lib/python3.6/dist-packages (from matplotlib->adjustText) (2.4.7)\n",
            "Requirement already satisfied: cycler>=0.10 in /usr/local/lib/python3.6/dist-packages (from matplotlib->adjustText) (0.10.0)\n",
            "Requirement already satisfied: python-dateutil>=2.1 in /usr/local/lib/python3.6/dist-packages (from matplotlib->adjustText) (2.8.1)\n",
            "Requirement already satisfied: six in /usr/local/lib/python3.6/dist-packages (from cycler>=0.10->matplotlib->adjustText) (1.12.0)\n",
            "Building wheels for collected packages: adjustText\n",
            "  Building wheel for adjustText (setup.py) ... \u001b[?25l\u001b[?25hdone\n",
            "  Created wheel for adjustText: filename=adjustText-0.7.3-cp36-none-any.whl size=7100 sha256=358e39c45d56a5416b9856e2d573de44436a9fecb4920373ee2ae815fc400f18\n",
            "  Stored in directory: /root/.cache/pip/wheels/41/95/74/7d347e136d672f8bc28e937032bc92baf4f80856763a7e7b72\n",
            "Successfully built adjustText\n",
            "Installing collected packages: adjustText\n",
            "Successfully installed adjustText-0.7.3\n"
          ],
          "name": "stdout"
        }
      ]
    },
    {
      "cell_type": "code",
      "metadata": {
        "id": "mObx3Ko11AFy",
        "colab_type": "code",
        "colab": {}
      },
      "source": [
        "from sklearn.manifold import TSNE\n",
        "import adjustText"
      ],
      "execution_count": null,
      "outputs": []
    },
    {
      "cell_type": "code",
      "metadata": {
        "id": "uie-_-Ukx1aX",
        "colab_type": "code",
        "colab": {}
      },
      "source": [
        "df = open(\"embeddings_df.pickle\", \"rb\")\n",
        "embeddings_df = pickle.load(df)"
      ],
      "execution_count": null,
      "outputs": []
    },
    {
      "cell_type": "code",
      "metadata": {
        "id": "nZUf5AvFx5k-",
        "colab_type": "code",
        "colab": {}
      },
      "source": [
        "# Initialize t-SNE\n",
        "tsne = TSNE(n_components = 2, init = 'random', random_state = 42, perplexity = 100)\n",
        "\n",
        "# Use only 400 rows to shorten processing time\n",
        "tsne_df = tsne.fit_transform(embeddings_df[:400])"
      ],
      "execution_count": null,
      "outputs": []
    },
    {
      "cell_type": "code",
      "metadata": {
        "id": "yC970Q8L0Ss8",
        "colab_type": "code",
        "colab": {
          "base_uri": "https://localhost:8080/",
          "height": 500
        },
        "outputId": "9fffff63-6441-495f-926f-6fa949d52938"
      },
      "source": [
        "sns.set()\n",
        "# Initialize figure\n",
        "fig, ax = plt.subplots(figsize = (11.7, 8.27))\n",
        "sns.scatterplot(tsne_df[:, 0], tsne_df[:, 1], alpha = 0.5)\n",
        "\n",
        "# Import adjustText, initialize list of texts\n",
        "from adjustText import adjust_text\n",
        "texts = []\n",
        "words_to_plot = list(np.arange(0, 400, 10))\n",
        "\n",
        "# Append words to list\n",
        "for word in words_to_plot:\n",
        "    texts.append(plt.text(tsne_df[word, 0], tsne_df[word, 1], embeddings_df.index[word], fontsize = 14))\n",
        "    \n",
        "# Plot text using adjust_text (because overlapping text is hard to read)\n",
        "adjust_text(texts, force_points = 0.4, force_text = 0.4, \n",
        "            expand_points = (2,1), expand_text = (1,2),\n",
        "            arrowprops = dict(arrowstyle = \"-\", color = 'black', lw = 0.5))\n",
        "\n",
        "plt.savefig(\"word_embedding_visualization.png\")\n",
        "plt.show()"
      ],
      "execution_count": null,
      "outputs": [
        {
          "output_type": "display_data",
          "data": {
            "image/png": "[encoded data removed]",
            "text/plain": [
              "<Figure size 842.4x595.44 with 1 Axes>"
            ]
          },
          "metadata": {
            "tags": []
          }
        }
      ]
    },
    {
      "cell_type": "code",
      "metadata": {
        "id": "PSQ-1ZuR2CJe",
        "colab_type": "code",
        "colab": {}
      },
      "source": [
        "from wordcloud import WordCloud"
      ],
      "execution_count": null,
      "outputs": []
    },
    {
      "cell_type": "code",
      "metadata": {
        "id": "rItXm-jr4Q_K",
        "colab_type": "code",
        "colab": {
          "base_uri": "https://localhost:8080/",
          "height": 380
        },
        "outputId": "846ed1ef-f7f9-4ac2-cdf1-0622b290f24b"
      },
      "source": [
        "all_words = \" \".join([\" \".join(text) for text in processed_df['clean_text']])\n",
        "\n",
        "# text = \" \".join(processed_df['clean_text'][0])\n",
        "\n",
        "# Create and generate a word cloud image:\n",
        "# wordcloud = WordCloud().generate(text)\n",
        "wordcloud = WordCloud(width=800, height=500, random_state=42, max_font_size=110).generate(all_words)\n",
        "\n",
        "# Display the generated image:\n",
        "plt.figure(figsize=(10, 7))\n",
        "plt.imshow(wordcloud, interpolation=\"bilinear\")\n",
        "plt.axis('off')\n",
        "plt.savefig('word_cloud.png')\n",
        "plt.show()"
      ],
      "execution_count": null,
      "outputs": [
        {
          "output_type": "display_data",
          "data": {
            "image/png": "[encoded data removed]",
            "text/plain": [
              "<Figure size 720x504 with 1 Axes>"
            ]
          },
          "metadata": {
            "tags": []
          }
        }
      ]
    }
  ]
}